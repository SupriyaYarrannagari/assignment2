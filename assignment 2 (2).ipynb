{
 "cells": [
  {
   "cell_type": "code",
   "execution_count": 1,
   "id": "7a534ad7",
   "metadata": {},
   "outputs": [
    {
     "name": "stdout",
     "output_type": "stream",
     "text": [
      "yddeR ayirpuS\n"
     ]
    }
   ],
   "source": [
    "# 1\n",
    "string=\"Supriya Reddy\"\n",
    "result=string[::-1]\n",
    "print(result)"
   ]
  },
  {
   "cell_type": "code",
   "execution_count": 8,
   "id": "2fefbb36",
   "metadata": {},
   "outputs": [
    {
     "name": "stdout",
     "output_type": "stream",
     "text": [
      "enter a string:madam\n",
      "it is a palindrome\n"
     ]
    }
   ],
   "source": [
    "#2\n",
    "string=input(\"enter a string:\")\n",
    "reversed_string=string[::-1]\n",
    "if string==reversed_string:\n",
    "    print(\"it is a palindrome\")\n",
    "else:\n",
    "    print(\"it is not a palindrome\")"
   ]
  },
  {
   "cell_type": "code",
   "execution_count": 9,
   "id": "dc3660e4",
   "metadata": {},
   "outputs": [
    {
     "name": "stdout",
     "output_type": "stream",
     "text": [
      "enter a string:yesterday\n",
      "it is not a palindrome\n"
     ]
    }
   ],
   "source": [
    "#2\n",
    "string=input(\"enter a string:\")\n",
    "reversed_string=string[::-1]\n",
    "if string==reversed_string:\n",
    "    print(\"it is a palindrome\")\n",
    "else:\n",
    "    print(\"it is not a palindrome\")\n"
   ]
  },
  {
   "cell_type": "code",
   "execution_count": 10,
   "id": "a8c19f78",
   "metadata": {},
   "outputs": [
    {
     "name": "stdout",
     "output_type": "stream",
     "text": [
      "SUPRIYA YARRANNAGARI\n"
     ]
    }
   ],
   "source": [
    "#3\n",
    "#convert a string to upper case\n",
    "string=\"supriya yarrannagari\"\n",
    "result=string.upper()\n",
    "print(result)"
   ]
  },
  {
   "cell_type": "code",
   "execution_count": 11,
   "id": "8dddf314",
   "metadata": {},
   "outputs": [
    {
     "name": "stdout",
     "output_type": "stream",
     "text": [
      "supriya yarrannagari\n"
     ]
    }
   ],
   "source": [
    "#4\n",
    "#convert a string to lower case\n",
    "string=\"SUPRIYA YARRANNAGARI\"\n",
    "result=string.lower()\n",
    "print(result)"
   ]
  },
  {
   "cell_type": "code",
   "execution_count": 2,
   "id": "03f21566",
   "metadata": {},
   "outputs": [
    {
     "name": "stdout",
     "output_type": "stream",
     "text": [
      "enter a string:Don't waste the time, time is very important in life and life is very small to live so don't regret and finally don't destroy environment ,save the nature.\n",
      "45\n"
     ]
    }
   ],
   "source": [
    "#5\n",
    "x=input(\"enter a string:\")\n",
    "x=x.lower()\n",
    "count_a=count_e=count_i=count_o=count_u=0\n",
    "for char in x:\n",
    "    if char=='a':\n",
    "        count_a+=1\n",
    "    elif char=='e':\n",
    "        count_e+=1\n",
    "    elif char=='i':\n",
    "        count_i+=1\n",
    "    elif char=='o':\n",
    "        count_o+=1\n",
    "    elif char=='u':\n",
    "        count_u+=1\n",
    "total_vowels=count_a+count_e+count_i+count_o+count_u\n",
    "print(total_vowels)\n",
    "\n",
    "    \n",
    "    \n",
    "\n"
   ]
  },
  {
   "cell_type": "code",
   "execution_count": 5,
   "id": "efc13ad1",
   "metadata": {},
   "outputs": [
    {
     "name": "stdout",
     "output_type": "stream",
     "text": [
      "enter a string:Don't waste the time, time is very important in life and life is very small to live so don't regret and finally don't destroy environment ,save the nature.\n",
      "77\n"
     ]
    }
   ],
   "source": [
    "#6\n",
    "def count_consonants(s):\n",
    "    consonants = \"bcdfghjklmnpqrstvwxyzBCDFGHJKLMNPQRSTVWXYZ\"\n",
    "    count = 0\n",
    "    for char in s:\n",
    "        if char in consonants:\n",
    "            count += 1\n",
    "    return count\n",
    "input_string=input(\"enter a string:\")\n",
    "consonant_count=count_consonants(input_string)\n",
    "print(consonant_count)"
   ]
  },
  {
   "cell_type": "code",
   "execution_count": 16,
   "id": "df60c999",
   "metadata": {},
   "outputs": [
    {
     "name": "stdout",
     "output_type": "stream",
     "text": [
      "enter a string:supriya yarrannagari\n",
      "supriyayarrannagari\n"
     ]
    }
   ],
   "source": [
    "#7\n",
    "string=input(\"enter a string:\")\n",
    "stripped_string=string.replace(' ', '')\n",
    "print(stripped_string)"
   ]
  },
  {
   "cell_type": "code",
   "execution_count": 21,
   "id": "470168e0",
   "metadata": {},
   "outputs": [
    {
     "name": "stdout",
     "output_type": "stream",
     "text": [
      "enter a string:hello world!\n",
      "12\n"
     ]
    }
   ],
   "source": [
    "#8\n",
    "def string_length(s):\n",
    "    count=0\n",
    "    for char in s:\n",
    "        count+=1\n",
    "    return count\n",
    "input_string=input(\"enter a string:\")\n",
    "length=string_length(input_string)\n",
    "print(length)"
   ]
  },
  {
   "cell_type": "code",
   "execution_count": 29,
   "id": "bf6901a7",
   "metadata": {},
   "outputs": [
    {
     "name": "stdout",
     "output_type": "stream",
     "text": [
      "yes, it's contained\n"
     ]
    }
   ],
   "source": [
    "#9\n",
    "def contains_word(text,word):\n",
    "    return word in text\n",
    "input_string=\"hello,This is a sample example\"\n",
    "search_string=\"sample\"\n",
    "if contains_word(input_string,search_string):\n",
    "    print(\"yes, it's contained\")\n",
    "else:\n",
    "    print(\"no,it's not contained\")\n",
    "    \n",
    "    \n"
   ]
  },
  {
   "cell_type": "code",
   "execution_count": 28,
   "id": "ba759fe6",
   "metadata": {},
   "outputs": [
    {
     "name": "stdout",
     "output_type": "stream",
     "text": [
      "Hello, world\n",
      "Hello, Alice\n"
     ]
    }
   ],
   "source": [
    "#10\n",
    "string=\"Hello, world\"\n",
    "print(string)\n",
    "replaced_string=string.replace(\"world\",\"Alice\")\n",
    "print(replaced_string)"
   ]
  },
  {
   "cell_type": "code",
   "execution_count": 32,
   "id": "916d1f6b",
   "metadata": {},
   "outputs": [
    {
     "name": "stdout",
     "output_type": "stream",
     "text": [
      "The word sample appears in 4 times in the string\n"
     ]
    }
   ],
   "source": [
    "#11\n",
    "def count_occurrences_word(text,word):\n",
    "    return text.count(word)\n",
    "input_string=\"hello,This is a sample example.It is a sample sample sample.\"\n",
    "search_string=\"sample\"\n",
    "occurrences=count_occurrences_word(input_string,search_string)\n",
    "print(f\"The word {search_string} appears in {occurrences} times in the string\") \n",
    "\n",
    "    "
   ]
  },
  {
   "cell_type": "code",
   "execution_count": 39,
   "id": "fee63fb1",
   "metadata": {},
   "outputs": [
    {
     "name": "stdout",
     "output_type": "stream",
     "text": [
      "the first sample at first appears of index 16.\n"
     ]
    }
   ],
   "source": [
    "#12\n",
    "def find_first_occurrences(text,word):\n",
    "    return text.find(word)\n",
    "input_string=\"hello,This is a sample example.It is a sample sample sample.\"\n",
    "search_string=\"sample\"\n",
    "index=find_first_occurrences(input_string,search_string)\n",
    "if index != -1:\n",
    "    print(f\"the first {search_string} at first appears of index {index}.\")\n",
    "else:\n",
    "    print(f\"the first {search_string} is not appearsin the string\")\n"
   ]
  },
  {
   "cell_type": "code",
   "execution_count": 42,
   "id": "c80c4c6f",
   "metadata": {},
   "outputs": [
    {
     "name": "stdout",
     "output_type": "stream",
     "text": [
      "the first sample at last appears of index 53.\n"
     ]
    }
   ],
   "source": [
    "#13\n",
    "def find_last_occurrences(text,word):\n",
    "    return text.rfind(word)\n",
    "input_string=\"hello,This is a sample example.It is a sample sample sample.\"\n",
    "search_string=\"sample\"\n",
    "index=find_last_occurrences(input_string,search_string)\n",
    "if index != -1:\n",
    "    print(f\"the first {search_string} at last appears of index {index}.\")\n",
    "else:\n",
    "    print(f\"the first {search_string} is not appearsin the string\")\n"
   ]
  },
  {
   "cell_type": "code",
   "execution_count": 45,
   "id": "9d6bd97b",
   "metadata": {},
   "outputs": [
    {
     "name": "stdout",
     "output_type": "stream",
     "text": [
      "['hello', 'world!,', 'This', 'is', 'a', 'Sample', 'example.']\n"
     ]
    }
   ],
   "source": [
    "#14\n",
    "string=\"hello world!, This is a Sample example.\"\n",
    "result=string.split()\n",
    "print(result)"
   ]
  },
  {
   "cell_type": "code",
   "execution_count": 50,
   "id": "bab0d3df",
   "metadata": {},
   "outputs": [
    {
     "name": "stdout",
     "output_type": "stream",
     "text": [
      "hello, world! very nice to see you\n"
     ]
    }
   ],
   "source": [
    "#15\n",
    "string=\"hello, world!\"\n",
    "word=' '.join([string,\"very nice to see you\"])\n",
    "print(word)"
   ]
  },
  {
   "cell_type": "code",
   "execution_count": 2,
   "id": "f792c8e5",
   "metadata": {},
   "outputs": [
    {
     "name": "stdout",
     "output_type": "stream",
     "text": [
      "where_words_are_separetaed_by_spaces_one_where_separeated_br_under_score.\n"
     ]
    }
   ],
   "source": [
    "#16\n",
    "original_string=\"where words are separetaed by spaces one where separeated br under score.\"\n",
    "underscore_string=original_string.replace(\" \",\"_\")\n",
    "print(underscore_string)"
   ]
  },
  {
   "cell_type": "code",
   "execution_count": 3,
   "id": "63c1b255",
   "metadata": {},
   "outputs": [
    {
     "name": "stdout",
     "output_type": "stream",
     "text": [
      "the text is startswith 'hello'\n"
     ]
    }
   ],
   "source": [
    "#17\n",
    "text=\"Hello,how are you doing today.\"\n",
    "if text.startswith(\"Hello\"):\n",
    "    print(\"the text is startswith 'hello'\")\n",
    "else:\n",
    "    print(\"the text does not startswith 'Hello'\")"
   ]
  },
  {
   "cell_type": "code",
   "execution_count": 5,
   "id": "5d6567dd",
   "metadata": {},
   "outputs": [
    {
     "name": "stdout",
     "output_type": "stream",
     "text": [
      "the text is endswith 'today.'\n"
     ]
    }
   ],
   "source": [
    "#18\n",
    "text=\"Hello,how are you doing today.\"\n",
    "if text.endswith(\"today.\"):\n",
    "    print(\"the text is endswith 'today.'\")\n",
    "else:\n",
    "    print(\"the text does not endswith 'today.'\")"
   ]
  },
  {
   "cell_type": "code",
   "execution_count": 6,
   "id": "f30585ed",
   "metadata": {},
   "outputs": [
    {
     "name": "stdout",
     "output_type": "stream",
     "text": [
      "Hello, world!\n"
     ]
    }
   ],
   "source": [
    "#19\n",
    "string=\"hello, world!\"\n",
    "capitalized_string=string.capitalize()\n",
    "print(capitalized_string)"
   ]
  },
  {
   "cell_type": "code",
   "execution_count": 10,
   "id": "f450a86a",
   "metadata": {},
   "outputs": [
    {
     "name": "stdout",
     "output_type": "stream",
     "text": [
      "The longest word: everyone.\n"
     ]
    }
   ],
   "source": [
    "#20\n",
    "def longest_word_in_string(input_string):\n",
    "    words = input_string.split()  # Split the string into words\n",
    "    longest_word = \"\"\n",
    "\n",
    "    for word in words:\n",
    "        if len(word) > len(longest_word):\n",
    "            longest_word = word\n",
    "\n",
    "    return longest_word\n",
    "\n",
    "string = \"hello, Good morning to everyone.\"\n",
    "longest_word = longest_word_in_string(string)\n",
    "print(\"The longest word:\", longest_word)\n"
   ]
  },
  {
   "cell_type": "code",
   "execution_count": 11,
   "id": "ba479fbf",
   "metadata": {},
   "outputs": [
    {
     "name": "stdout",
     "output_type": "stream",
     "text": [
      "The smallest word: to\n"
     ]
    }
   ],
   "source": [
    "#21\n",
    "def smallest_word_in_string(input_string):\n",
    "    words = input_string.split()  # Split the string into words\n",
    "    smallest_word = \"\"\n",
    "\n",
    "    for word in words:\n",
    "        if len(word) < len(longest_word):\n",
    "            smallest_word = word\n",
    "\n",
    "    return smallest_word\n",
    "\n",
    "string = \"hello, Good morning to everyone.\"\n",
    "smallest_word = smallest_word_in_string(string)\n",
    "print(\"The smallest word:\", smallest_word)"
   ]
  },
  {
   "cell_type": "code",
   "execution_count": 22,
   "id": "36126531",
   "metadata": {},
   "outputs": [
    {
     "name": "stdout",
     "output_type": "stream",
     "text": [
      "everyone to morning hello,good\n"
     ]
    }
   ],
   "source": [
    "#22\n",
    "def reverse_words(input_string):\n",
    "    words=input_string.split()\n",
    "    reversed_words=words[::-1]\n",
    "    reversed_string= ' '.join(reversed_words)\n",
    "    return reversed_string\n",
    "string=\"hello,good morning to everyone\"\n",
    "reversed_string=reverse_words(string)\n",
    "print(reversed_string)"
   ]
  },
  {
   "cell_type": "code",
   "execution_count": 25,
   "id": "73c5a6c8",
   "metadata": {},
   "outputs": [
    {
     "name": "stdout",
     "output_type": "stream",
     "text": [
      "False\n"
     ]
    }
   ],
   "source": [
    "#23\n",
    "string=\"Hello,World!123\"\n",
    "alphanumeric_string=string.isalpha()\n",
    "print(alphanumeric_string)"
   ]
  },
  {
   "cell_type": "code",
   "execution_count": 27,
   "id": "7f328316",
   "metadata": {},
   "outputs": [
    {
     "name": "stdout",
     "output_type": "stream",
     "text": [
      "123456\n"
     ]
    }
   ],
   "source": [
    "#24\n",
    "string = \"Hello123World456\"\n",
    "digits = [char for char in string if char.isdigit()]\n",
    "result = ''.join(digits)\n",
    "print(result)"
   ]
  },
  {
   "cell_type": "code",
   "execution_count": 28,
   "id": "b7cec2a3",
   "metadata": {},
   "outputs": [
    {
     "name": "stdout",
     "output_type": "stream",
     "text": [
      "HelloWorld\n"
     ]
    }
   ],
   "source": [
    "#25\n",
    "string = \"Hello123World456\"\n",
    "digits = [char for char in string if char.isalpha()]\n",
    "result = ''.join(digits)\n",
    "print(result)"
   ]
  },
  {
   "cell_type": "code",
   "execution_count": 5,
   "id": "739a4da5",
   "metadata": {},
   "outputs": [
    {
     "name": "stdout",
     "output_type": "stream",
     "text": [
      "Number of uppercase letters: 3\n"
     ]
    }
   ],
   "source": [
    "#26\n",
    "def count_uppercase_letters(input_string):\n",
    "    count = 0\n",
    "    for char in input_string:\n",
    "        if char.isupper():\n",
    "            count += 1\n",
    "    return count\n",
    "input_string = \"Hello Supriya Yarrannagari\"\n",
    "uppercase_count = count_uppercase_letters(input_string)\n",
    "print(\"Number of uppercase letters:\", uppercase_count)\n"
   ]
  },
  {
   "cell_type": "code",
   "execution_count": 6,
   "id": "f7f00eba",
   "metadata": {},
   "outputs": [
    {
     "name": "stdout",
     "output_type": "stream",
     "text": [
      "Number of uppercase letters: 3\n"
     ]
    }
   ],
   "source": [
    "input_string = \"Hello Supriya Yarrannagari\"\n",
    "uppercase_count = count_uppercase_letters(input_string)\n",
    "print(\"Number of uppercase letters:\", uppercase_count)\n"
   ]
  },
  {
   "cell_type": "code",
   "execution_count": 7,
   "id": "06a49a9f",
   "metadata": {},
   "outputs": [
    {
     "name": "stdout",
     "output_type": "stream",
     "text": [
      "Number of lowercase letters: 21\n"
     ]
    }
   ],
   "source": [
    "#27\n",
    "def count_lowercase_letters(input_string):\n",
    "    count = 0\n",
    "    for char in input_string:\n",
    "        if char.islower():\n",
    "            count += 1\n",
    "    return count\n",
    "input_string = \"Hello Supriya Yarrannagari\"\n",
    "lowercase_count = count_lowercase_letters(input_string)\n",
    "print(\"Number of lowercase letters:\", lowercase_count)\n"
   ]
  },
  {
   "cell_type": "code",
   "execution_count": 8,
   "id": "e52d2a1d",
   "metadata": {},
   "outputs": [
    {
     "name": "stdout",
     "output_type": "stream",
     "text": [
      "Number of lowercase letters: 21\n"
     ]
    }
   ],
   "source": [
    "input_string = \"Hello Supriya Yarrannagari\"\n",
    "lowercase_count = count_lowercase_letters(input_string)\n",
    "print(\"Number of lowercase letters:\", lowercase_count)"
   ]
  },
  {
   "cell_type": "code",
   "execution_count": 17,
   "id": "5424c071",
   "metadata": {},
   "outputs": [
    {
     "name": "stdout",
     "output_type": "stream",
     "text": [
      "hELLO wORLD!\n"
     ]
    }
   ],
   "source": [
    "#28\n",
    "input_string=\"Hello World!\"\n",
    "swapped_string=input_string.swapcase()\n",
    "print(swapped_string)"
   ]
  },
  {
   "cell_type": "code",
   "execution_count": 16,
   "id": "3ab0a751",
   "metadata": {},
   "outputs": [
    {
     "name": "stdout",
     "output_type": "stream",
     "text": [
      "Supriya  Yarrannagari\n"
     ]
    }
   ],
   "source": [
    "#29\n",
    "string=\"Supriya Reddy Yarrannagari\"\n",
    "remove_string=\"Reddy\"\n",
    "new_string=string.replace(remove_string, \"\")\n",
    "print(new_string)"
   ]
  },
  {
   "cell_type": "code",
   "execution_count": 29,
   "id": "7402f1a8",
   "metadata": {},
   "outputs": [
    {
     "name": "stdout",
     "output_type": "stream",
     "text": [
      "valid email address\n"
     ]
    }
   ],
   "source": [
    "#30\n",
    "email=\"supriyareddy155@gmail.com\"\n",
    "if email:\n",
    "    print(\"valid email address\")\n",
    "else:\n",
    "    print(\"is not valid email address\")"
   ]
  },
  {
   "cell_type": "code",
   "execution_count": 34,
   "id": "5b71166b",
   "metadata": {},
   "outputs": [
    {
     "name": "stdout",
     "output_type": "stream",
     "text": [
      "username: supriyareddy155\n"
     ]
    }
   ],
   "source": [
    "#31\n",
    "def extract_username(email):\n",
    "    parts=email.split(\"@\")\n",
    "    if len(parts)==2:\n",
    "        return parts[0]\n",
    "    else:\n",
    "        return None\n",
    "email=\"supriyareddy155@gmail.com\"\n",
    "username=extract_username(email)\n",
    "if username:\n",
    "    print(\"username:\",username)\n",
    "else:\n",
    "    print(\"invalid_email_address\")"
   ]
  },
  {
   "cell_type": "code",
   "execution_count": 45,
   "id": "69fa685c",
   "metadata": {},
   "outputs": [
    {
     "name": "stdout",
     "output_type": "stream",
     "text": [
      "domainname: gmail.com\n"
     ]
    }
   ],
   "source": [
    "#32\n",
    "def extract_domainname(email):\n",
    "    parts=email.split(\"@\")\n",
    "    if len(parts)==2:\n",
    "        return parts[1]\n",
    "    else:\n",
    "        return None\n",
    "email=\"supriyareddy155@gmail.com\"\n",
    "domainname=extract_domainname(email)\n",
    "if domainname:\n",
    "    print(\"domainname:\",domainname)\n",
    "else:\n",
    "    print(\"invalid_email_address\")"
   ]
  },
  {
   "cell_type": "code",
   "execution_count": 55,
   "id": "3e7898df",
   "metadata": {},
   "outputs": [
    {
     "name": "stdout",
     "output_type": "stream",
     "text": [
      "this string has multiple spaces with a single space\n"
     ]
    }
   ],
   "source": [
    "#33\n",
    "def replace_multiple_spaces_with_single_space(input_string):\n",
    "    return re.sub(r\"\\s+\",\" \",input_string)\n",
    "import re\n",
    "new_string=replace_multiple_spaces_with_single_space(original_string)\n",
    "print(new_string)"
   ]
  },
  {
   "cell_type": "raw",
   "id": "3b0750b5",
   "metadata": {},
   "source": []
  },
  {
   "cell_type": "code",
   "execution_count": 57,
   "id": "3fd4fd42",
   "metadata": {},
   "outputs": [
    {
     "name": "stdout",
     "output_type": "stream",
     "text": [
      "Valid URL\n"
     ]
    }
   ],
   "source": [
    "#34\n",
    "url = \"https://www.Yarrannagari.com\"\n",
    "if url:\n",
    "    print(\"Valid URL\")\n",
    "else:\n",
    "    print(\"Invalid URL\")"
   ]
  },
  {
   "cell_type": "code",
   "execution_count": 60,
   "id": "666fa75b",
   "metadata": {},
   "outputs": [
    {
     "name": "stdout",
     "output_type": "stream",
     "text": [
      "Protocol: https\n"
     ]
    }
   ],
   "source": [
    "#35\n",
    "import urllib.parse\n",
    "def extract_protocol(url):\n",
    "    parsed_url = urllib.parse.urlparse(url)\n",
    "    return parsed_url.scheme\n",
    "url = \"https://www.google.com\"\n",
    "protocol = extract_protocol(url)\n",
    "print(\"Protocol:\", protocol)"
   ]
  },
  {
   "cell_type": "code",
   "execution_count": 77,
   "id": "6127b100",
   "metadata": {},
   "outputs": [
    {
     "name": "stdout",
     "output_type": "stream",
     "text": [
      "'H': 1\n",
      "'e': 1\n",
      "'l': 2\n",
      "'o': 1\n",
      "' ': 1\n",
      "'Y': 1\n",
      "'a': 4\n",
      "'r': 3\n",
      "'n': 2\n",
      "'g': 1\n",
      "'i': 1\n"
     ]
    }
   ],
   "source": [
    "#36\n",
    "def frequency_character(input_string):\n",
    "    dict_count = {}\n",
    "    for char in input_string:\n",
    "        if char in dict_count:\n",
    "            dict_count[char] += 1\n",
    "        else:\n",
    "            dict_count[char] = 1\n",
    "    return dict_count\n",
    "\n",
    "input_string = \"Hello Yarrannagari\"\n",
    "freq_dict = frequency_character(input_string)\n",
    "for char, count in freq_dict.items():\n",
    "    print(f\"'{char}': {count}\")\n"
   ]
  },
  {
   "cell_type": "code",
   "execution_count": 1,
   "id": "0c686b3d",
   "metadata": {},
   "outputs": [
    {
     "name": "stdout",
     "output_type": "stream",
     "text": [
      "Hello wrld this is an example\n"
     ]
    }
   ],
   "source": [
    "#37\n",
    "import string\n",
    "def remove_punctuation(input_string):\n",
    "    translator = str.maketrans('', '', string.punctuation)\n",
    "    cleaned_string = input_string.translate(translator)\n",
    "    return cleaned_string\n",
    "\n",
    "input_string = \"Hello, wrld! this is an example.\"\n",
    "new_string = remove_punctuation(input_string)\n",
    "print(new_string)"
   ]
  },
  {
   "cell_type": "code",
   "execution_count": 4,
   "id": "2b9d3baf",
   "metadata": {},
   "outputs": [
    {
     "name": "stdout",
     "output_type": "stream",
     "text": [
      "string contain only digits\n"
     ]
    }
   ],
   "source": [
    "#38\n",
    "def contain_only_digits(string):\n",
    "    return string.isdigit()\n",
    "string=\"123456\"\n",
    "if contain_only_digits(string):\n",
    "    print(\"string contain only digits\")\n",
    "else:\n",
    "    print(\"string does not contain only digits\")"
   ]
  },
  {
   "cell_type": "code",
   "execution_count": 12,
   "id": "1ac45875",
   "metadata": {},
   "outputs": [
    {
     "name": "stdout",
     "output_type": "stream",
     "text": [
      "The string contains only alphabetic characters.\n"
     ]
    }
   ],
   "source": [
    "#39\n",
    "def contains_only_alphabets(input_string):\n",
    "    return input_string.isalpha()\n",
    "input_string = \"Hello\"\n",
    "if contains_only_alphabets(input_string):\n",
    "    print(\"The string contains only alphabetic characters.\")\n",
    "else:\n",
    "    print(\"The string does not contain only alphabetic characters.\")"
   ]
  },
  {
   "cell_type": "code",
   "execution_count": 19,
   "id": "a00fedc3",
   "metadata": {},
   "outputs": [
    {
     "name": "stdout",
     "output_type": "stream",
     "text": [
      "['S', 'u', 'p', 'r', 'i', 'y', 'a', ' ', 'R', 'e', 'd', 'd', 'y', ' ', 'y', 'a', 'r', 'r', 'a', 'n', 'n', 'a', 'g', 'a', 'r', 'i', ' ', '1', '5', '5']\n",
      "<class 'list'>\n"
     ]
    }
   ],
   "source": [
    "#40\n",
    "input_string=\"Supriya Reddy yarrannagari 155\"\n",
    "new_list=list(input_string)\n",
    "print(new_list)\n",
    "print(type(new_list))"
   ]
  },
  {
   "cell_type": "code",
   "execution_count": 23,
   "id": "80339d28",
   "metadata": {},
   "outputs": [
    {
     "name": "stdout",
     "output_type": "stream",
     "text": [
      "these strings are anagrams\n"
     ]
    }
   ],
   "source": [
    "#41\n",
    "def are_anagrams(str1,str2):\n",
    "    str1=str1.replace(\" \",\" \").lower()\n",
    "    str2=str2.replace(\" \",\" \").lower()\n",
    "    return sorted(str1)==sorted(str2)\n",
    "string1=\"listen\"\n",
    "string2=\"silent\"\n",
    "if are_anagrams(string1,string2):\n",
    "    print(\"these strings are anagrams\")\n",
    "else:\n",
    "    print(\"these strings are not anagrams\")\n"
   ]
  },
  {
   "cell_type": "code",
   "execution_count": 32,
   "id": "54ca61c7",
   "metadata": {},
   "outputs": [
    {
     "name": "stdout",
     "output_type": "stream",
     "text": [
      "Original: Hello, World!\n",
      "Encrypted: Khoor, Zruog!\n"
     ]
    }
   ],
   "source": [
    "#42\n",
    "def caesar_cipher_encrypt(input_string, shift):\n",
    "    encrypted_string = \"\"\n",
    "    for char in input_string:\n",
    "        if char.isalpha():\n",
    "            is_upper = char.isupper()\n",
    "            char = char.lower()\n",
    "            char_code = ord(char) - ord('a')\n",
    "            char_code = (char_code + shift) % 26\n",
    "            char = chr(char_code + ord('a'))\n",
    "            if is_upper:\n",
    "                char = char.upper()\n",
    "\n",
    "        encrypted_string += char\n",
    "\n",
    "    return encrypted_string\n",
    "\n",
    "input_string = \"Hello, World!\"\n",
    "shift = 3\n",
    "encrypted_string = caesar_cipher_encrypt(input_string, shift)\n",
    "print(\"Original:\", input_string)\n",
    "print(\"Encrypted:\", encrypted_string)"
   ]
  },
  {
   "cell_type": "code",
   "execution_count": 10,
   "id": "a39b29be",
   "metadata": {},
   "outputs": [
    {
     "name": "stdout",
     "output_type": "stream",
     "text": [
      "ilmm, world!\n"
     ]
    }
   ],
   "source": [
    "#43\n",
    "def caesar_cipher_decoded(text, shift):\n",
    "    decoded_text = \"\"  \n",
    "    for char in text:\n",
    "        if char.isalpha():\n",
    "            decoded_char = chr((ord(char) - shift - ord('a')) % 26 + ord('a'))\n",
    "        else:\n",
    "            decoded_char = char\n",
    "        decoded_text += decoded_char  \n",
    "    return decoded_text\n",
    "\n",
    "text = \"lopp, zruog!\"\n",
    "shift = 3\n",
    "decoded_text = caesar_cipher_decoded(text, shift)\n",
    "print(decoded_text)"
   ]
  },
  {
   "cell_type": "code",
   "execution_count": 21,
   "id": "65e61fd7",
   "metadata": {},
   "outputs": [
    {
     "name": "stdout",
     "output_type": "stream",
     "text": [
      "The most frequent word is 'text' with a count of 4.\n"
     ]
    }
   ],
   "source": [
    "#44\n",
    "from collections import Counter\n",
    "import re\n",
    "def most_frequent_word(input_string):\n",
    "    words=re.findall(r'\\b\\w+\\b',text.lower())\n",
    "    word_count=Counter(words)\n",
    "    most_common_word,most_common_count=word_count.most_common(1)[0]\n",
    "    return most_common_word,most_common_count\n",
    "text=\"this is a text, this text is very important,text is simple text.\"\n",
    "most_common_word,most_common_count=most_frequent_word(text)\n",
    "print(f\"The most frequent word is '{most_common_word}' with a count of {most_common_count}.\")\n"
   ]
  },
  {
   "cell_type": "code",
   "execution_count": 24,
   "id": "0e54078d",
   "metadata": {},
   "outputs": [
    {
     "name": "stdout",
     "output_type": "stream",
     "text": [
      "unique words in the text.\n",
      "in\n",
      "text\n",
      "this\n",
      "not\n",
      "is\n",
      "simple\n",
      "a\n"
     ]
    }
   ],
   "source": [
    "#45-Find all unique words in a string.\n",
    "import re\n",
    "def unique_words(text):\n",
    "    words=re.findall(r'\\b\\w+\\b',text.lower())\n",
    "    unique_word_set=set(words)\n",
    "    return unique_word_set\n",
    "text=\"this text is text,this is a text,not a text in simple.\"\n",
    "unique_words_set=unique_words(text)\n",
    "print(\"unique words in the text.\")\n",
    "for word in unique_words_set:\n",
    "    print(word)"
   ]
  },
  {
   "cell_type": "code",
   "execution_count": 34,
   "id": "1bafca72",
   "metadata": {},
   "outputs": [
    {
     "name": "stdout",
     "output_type": "stream",
     "text": [
      "'Hello' has 2 syllables: \n",
      "'Supriya' has 2 syllables: \n",
      "'Yarrannagari' has 5 syllables: \n",
      "'syllables' has 3 syllables: \n"
     ]
    }
   ],
   "source": [
    "#46- Count the number of syllables in a string.\n",
    "import re\n",
    "def count_syllables(word):\n",
    "    vowel_groups=re.findall(r'[aeiouy]+',word,re.IGNORECASE)\n",
    "    return len(vowel_groups)\n",
    "word1=\"Hello\"\n",
    "word2=\"Supriya\"\n",
    "word3=\"Yarrannagari\"\n",
    "word4=\"syllables\"\n",
    "syllables1=count_syllables(word1)\n",
    "syllables2=count_syllables(word2)\n",
    "syllables3=count_syllables(word3)\n",
    "syllables4=count_syllables(word4)\n",
    "print(f\"'{word1}' has {syllables1} syllables: \")\n",
    "print(f\"'{word2}' has {syllables2} syllables: \")\n",
    "print(f\"'{word3}' has {syllables3} syllables: \")\n",
    "print(f\"'{word4}' has {syllables4} syllables: \")\n"
   ]
  },
  {
   "cell_type": "code",
   "execution_count": 36,
   "id": "c5b6d559",
   "metadata": {},
   "outputs": [
    {
     "name": "stdout",
     "output_type": "stream",
     "text": [
      "'Hello, world!' contains special characters: True\n",
      "'This is a test.' contains special characters: True\n",
      "'Special@Characters' contains special characters: True\n"
     ]
    }
   ],
   "source": [
    "#47-Check if a string contains any special characters.\n",
    "import re\n",
    "\n",
    "def contains_special_characters(input_string):\n",
    "    pattern = re.compile(r'[!@#$%^&*()_+{}\\[\\]:;<>,.?~\\\\/]')\n",
    "    match = pattern.search(input_string)\n",
    "    return bool(match)\n",
    "string1 = \"Hello, world!\"\n",
    "string2 = \"This is a test.\"\n",
    "string3 = \"Special@Characters\"\n",
    "result1 = contains_special_characters(string1)\n",
    "result2 = contains_special_characters(string2)\n",
    "result3 = contains_special_characters(string3)\n",
    "print(f\"'{string1}' contains special characters:\", result1)\n",
    "print(f\"'{string2}' contains special characters:\", result2)\n",
    "print(f\"'{string3}' contains special characters:\", result3)\n"
   ]
  },
  {
   "cell_type": "code",
   "execution_count": 37,
   "id": "a2899c4e",
   "metadata": {},
   "outputs": [
    {
     "name": "stdout",
     "output_type": "stream",
     "text": [
      "This is simple sentence, and i want to remove the third word.\n"
     ]
    }
   ],
   "source": [
    "#48-Remove the nth word from a string.\n",
    "def remove_nth_string(input_string,n):\n",
    "    words=input_string.split()\n",
    "    if n>=1 and n<len(words):\n",
    "        del words[n-1]\n",
    "        result_string=' '.join(words)\n",
    "        return result_string\n",
    "    else:\n",
    "        print(\"invalid value of n:\")\n",
    "input_string=\"This is the simple sentence, and  i want to remove the third word.\"\n",
    "n=3\n",
    "result=remove_nth_string(input_string,n)\n",
    "print(result)"
   ]
  },
  {
   "cell_type": "code",
   "execution_count": 41,
   "id": "96736054",
   "metadata": {},
   "outputs": [
    {
     "name": "stdout",
     "output_type": "stream",
     "text": [
      "This is a sample new sentence, and I want to insert a word.\n"
     ]
    }
   ],
   "source": [
    "#49-Insert a word at the nth position in a string.\n",
    "def insert_word_at_nth_position(input_string, n, word_to_insert):\n",
    "    words = input_string.split()\n",
    "\n",
    "    if n >= 0 and n <= len(words):\n",
    "       \n",
    "        words.insert(n, word_to_insert)\n",
    "        result_string = ' '.join(words)\n",
    "        return result_string\n",
    "    else:\n",
    "        return \"Invalid value of n\"\n",
    "input_string = \"This is a sample sentence, and I want to insert a word.\"\n",
    "n = 4\n",
    "word_to_insert = \"new\"\n",
    "\n",
    "result = insert_word_at_nth_position(input_string, n, word_to_insert)\n",
    "print(result)"
   ]
  },
  {
   "cell_type": "code",
   "execution_count": 42,
   "id": "a6130118",
   "metadata": {},
   "outputs": [
    {
     "name": "stdout",
     "output_type": "stream",
     "text": [
      "[['John', 'Doe', '30'], ['Jane', 'Smith', '25'], ['Alice', 'Johnson', '35']]\n"
     ]
    }
   ],
   "source": [
    "#50-Convert a CSV string to a list of lists.\n",
    "csv_string = \"John,Doe,30\\nJane,Smith,25\\nAlice,Johnson,35\"\n",
    "csv_lines = csv_string.strip().split('\\n')\n",
    "csv_data = [line.split(',') for line in csv_lines]\n",
    "print(csv_data)"
   ]
  },
  {
   "cell_type": "markdown",
   "id": "54b267c6",
   "metadata": {},
   "source": [
    "# list based practice problem"
   ]
  },
  {
   "cell_type": "code",
   "execution_count": 1,
   "id": "0d69623d",
   "metadata": {},
   "outputs": [
    {
     "name": "stdout",
     "output_type": "stream",
     "text": [
      "[1, 2, 3, 4, 5, 6, 7, 8, 9, 10]\n"
     ]
    }
   ],
   "source": [
    "#1-Create a list with integers from 1 to 10.\n",
    "list=[1,2,3,4,5,6,7,8,9,10]\n",
    "print(list)"
   ]
  },
  {
   "cell_type": "code",
   "execution_count": 9,
   "id": "9c2e5143",
   "metadata": {},
   "outputs": [
    {
     "name": "stdout",
     "output_type": "stream",
     "text": [
      "Length of the list: 5\n"
     ]
    }
   ],
   "source": [
    "#2-Find the length of a list without using the `len()` function\n",
    "def find_length_of_list(lst):\n",
    "    count=0\n",
    "    for i in lst:\n",
    "        count+=1\n",
    "    return count\n",
    "lst= [1, 2, 3, 4, 5]\n",
    "length = find_length_of_list(lst)\n",
    "print(\"Length of the list:\", length)"
   ]
  },
  {
   "cell_type": "code",
   "execution_count": null,
   "id": "0b4d8b9c",
   "metadata": {},
   "outputs": [],
   "source": [
    "#3-Append an element to the end of a list.\n",
    "list=[\"suppi\",23,0.34]\n",
    "list.append(4+5j)\n",
    "print(list)"
   ]
  },
  {
   "cell_type": "code",
   "execution_count": 20,
   "id": "7b6382cb",
   "metadata": {},
   "outputs": [
    {
     "name": "stdout",
     "output_type": "stream",
     "text": [
      "[12, 'pwskills', 0.34, 'suppi']\n"
     ]
    }
   ],
   "source": [
    "#4- Insert an element at a specific index in a list.\n",
    "list=[12,0.34,'suppi']\n",
    "list.insert(1,'pwskills')\n",
    "print(list)"
   ]
  },
  {
   "cell_type": "code",
   "execution_count": 21,
   "id": "a2774536",
   "metadata": {},
   "outputs": [
    {
     "name": "stdout",
     "output_type": "stream",
     "text": [
      "[23, 0.34, 'string', True]\n"
     ]
    }
   ],
   "source": [
    "#5-Remove an element from a list by its value\n",
    "list=[23,0.34,4+5j,\"string\",True]\n",
    "list.remove(4+5j)\n",
    "print(list)"
   ]
  },
  {
   "cell_type": "code",
   "execution_count": 22,
   "id": "b7fa7541",
   "metadata": {},
   "outputs": [
    {
     "name": "stdout",
     "output_type": "stream",
     "text": [
      "[12, (4+3j), 'suppi', True]\n"
     ]
    }
   ],
   "source": [
    "#6. Remove an element from a list by its index\n",
    "list=[12,3.14,4+3j,\"suppi\",True]\n",
    "list.pop(1)\n",
    "print(list)"
   ]
  },
  {
   "cell_type": "code",
   "execution_count": 23,
   "id": "9d569f38",
   "metadata": {},
   "outputs": [
    {
     "name": "stdout",
     "output_type": "stream",
     "text": [
      "the number is existed in a list\n"
     ]
    }
   ],
   "source": [
    "#7-Check if an element exists in a list.\n",
    "list=[1,2,3,4,5,6]\n",
    "exist_number=3\n",
    "if exist_number in list:\n",
    "    print(\"the number is existed in a list\")\n",
    "else:\n",
    "    print(\"not existed\")"
   ]
  },
  {
   "cell_type": "code",
   "execution_count": 32,
   "id": "05d21b43",
   "metadata": {},
   "outputs": [
    {
     "name": "stdout",
     "output_type": "stream",
     "text": [
      "the first occurrence of 'is' is at index:1\n"
     ]
    }
   ],
   "source": [
    "#8-Find the index of the first occurrence of an element in a list.\n",
    "def find_first_occurrence(my_list, target):\n",
    "    count = 0\n",
    "    for item in my_list:\n",
    "        if item == target:\n",
    "            return count\n",
    "        count += 1\n",
    "    return -1\n",
    "\n",
    "my_list = [\"this\", \"is\",\" a\", \"list\"]\n",
    "target = \"is\"\n",
    "new_list = find_first_occurrence(my_list, target)\n",
    "print(f\"the first occurrence of '{target_element}' is at index:{new_list}\")"
   ]
  },
  {
   "cell_type": "code",
   "execution_count": 37,
   "id": "0121aaa9",
   "metadata": {},
   "outputs": [
    {
     "name": "stdout",
     "output_type": "stream",
     "text": [
      " the count occurrence of '2' is at index:1\n"
     ]
    }
   ],
   "source": [
    "#9-Count the occurrences of an element in a list.\n",
    "def count_occurrence(my_list,target):\n",
    "    count=0\n",
    "    for item in my_list:\n",
    "        if item==target:\n",
    "            count+=1\n",
    "    return count\n",
    "my_list=[1,2,3,4,5,6,7,8]\n",
    "target=2\n",
    "new_list=count_occurrence(my_list,target)\n",
    "print(f\" the count occurrence of '{target}' is at index:{new_list}\")"
   ]
  },
  {
   "cell_type": "code",
   "execution_count": 38,
   "id": "903254ed",
   "metadata": {},
   "outputs": [
    {
     "name": "stdout",
     "output_type": "stream",
     "text": [
      "[True, 'count', (4+5j), 3.45, 123]\n"
     ]
    }
   ],
   "source": [
    "#10-Reverse the order of elements in a list\n",
    "list=[123,3.45,4+5j,\"count\",True]\n",
    "result=list[::-1]\n",
    "print(result)"
   ]
  },
  {
   "cell_type": "code",
   "execution_count": 43,
   "id": "7db32d4c",
   "metadata": {},
   "outputs": [
    {
     "name": "stdout",
     "output_type": "stream",
     "text": [
      "sorted list in ascending order: [0, 1, 2, 3, 4, 5, 6, 7, 8, 9]\n"
     ]
    }
   ],
   "source": [
    "#11-Sort a list in ascending order.\n",
    "list=[1,2,3,4,5,6,7,8,9,0]\n",
    "result=sorted(list)\n",
    "print(\"sorted list in ascending order:\",result)"
   ]
  },
  {
   "cell_type": "code",
   "execution_count": 45,
   "id": "6557cb80",
   "metadata": {},
   "outputs": [
    {
     "name": "stdout",
     "output_type": "stream",
     "text": [
      "sorted list in descending order: [9, 8, 7, 6, 5, 4, 3, 2, 1, 0]\n"
     ]
    }
   ],
   "source": [
    "#12-Sort a list in descending order\n",
    "list=[1,2,3,4,5,6,7,8,9,0]\n",
    "result=sorted(list,reverse=True)\n",
    "print(\"sorted list in descending order:\",result)"
   ]
  },
  {
   "cell_type": "code",
   "execution_count": 48,
   "id": "37d2757f",
   "metadata": {},
   "outputs": [
    {
     "name": "stdout",
     "output_type": "stream",
     "text": [
      "[2, 4, 6, 8, 10, 12, 14, 16, 18, 20]\n"
     ]
    }
   ],
   "source": [
    "#13-Create a list of even numbers from 1 to 20.\n",
    "even_numbers=[x for x in range(2,21) if x%2==0]\n",
    "print(even_numbers)"
   ]
  },
  {
   "cell_type": "code",
   "execution_count": 49,
   "id": "2333c7e5",
   "metadata": {},
   "outputs": [
    {
     "name": "stdout",
     "output_type": "stream",
     "text": [
      "[3, 5, 7, 9, 11, 13, 15, 17, 19]\n"
     ]
    }
   ],
   "source": [
    "#14-Create a list of odd numbers from 1 to 20.\n",
    "odd_numbers=[x for x in range(2,21) if x%2!=0]\n",
    "print(odd_numbers)"
   ]
  },
  {
   "cell_type": "code",
   "execution_count": 1,
   "id": "94e5188e",
   "metadata": {},
   "outputs": [
    {
     "name": "stdout",
     "output_type": "stream",
     "text": [
      "Sum of elements in the list: 55\n"
     ]
    }
   ],
   "source": [
    "#15 Find the sum of all elements in a list.\n",
    "list= [1, 2, 3, 4, 5 ,6 ,7 ,8 ,9 ,10]\n",
    "sum_of_elements=sum(list)\n",
    "print(\"Sum of elements in the list:\", sum_of_elements)\n"
   ]
  },
  {
   "cell_type": "code",
   "execution_count": 2,
   "id": "8ec81ba2",
   "metadata": {},
   "outputs": [
    {
     "name": "stdout",
     "output_type": "stream",
     "text": [
      "456\n"
     ]
    }
   ],
   "source": [
    "#16-Find the maximum value in a list\n",
    "list=[2,34,56,78,456]\n",
    "result=max(list)\n",
    "print(result)"
   ]
  },
  {
   "cell_type": "code",
   "execution_count": 3,
   "id": "0ab905fb",
   "metadata": {},
   "outputs": [
    {
     "name": "stdout",
     "output_type": "stream",
     "text": [
      "-5\n"
     ]
    }
   ],
   "source": [
    "#17- Find the minimum value in a list.\n",
    "list=[0,34,2,13,5,78,-1,-4,-5]\n",
    "result=min(list)\n",
    "print(result)\n"
   ]
  },
  {
   "cell_type": "code",
   "execution_count": 15,
   "id": "92f3339a",
   "metadata": {},
   "outputs": [
    {
     "name": "stdout",
     "output_type": "stream",
     "text": [
      "[1, 4, 9, 16, 25, 36, 49, 64, 81, 100]\n"
     ]
    }
   ],
   "source": [
    "#18-Create a list of squares of numbers from 1 to 10.\n",
    "squares=[x**2 for x in range(1,11)]\n",
    "print(squares)"
   ]
  },
  {
   "cell_type": "code",
   "execution_count": 17,
   "id": "1334789d",
   "metadata": {},
   "outputs": [
    {
     "name": "stdout",
     "output_type": "stream",
     "text": [
      "[11, 14, 79, 1, 32, 75, 65, 70, 57, 86]\n"
     ]
    }
   ],
   "source": [
    "#19-Create a list of random numbers.\n",
    "import random\n",
    "random_numbers=[random.randint(1,100) for _ in range(10)]\n",
    "print(random_numbers)"
   ]
  },
  {
   "cell_type": "code",
   "execution_count": 19,
   "id": "40620e7a",
   "metadata": {},
   "outputs": [
    {
     "name": "stdout",
     "output_type": "stream",
     "text": [
      "{1, 2, 3, 4, 5, 6, 8, 9}\n",
      "<class 'set'>\n"
     ]
    }
   ],
   "source": [
    "#20- Remove duplicates from a list.\n",
    "original_list=[1,2,3,4,4,5,6,3,4,8,9,2,5,3,4]\n",
    "\n",
    "new_list=set(original_list)\n",
    "print(new_list)\n",
    "print(type(new_list))"
   ]
  },
  {
   "cell_type": "code",
   "execution_count": 22,
   "id": "3ee2f8f0",
   "metadata": {},
   "outputs": [
    {
     "name": "stdout",
     "output_type": "stream",
     "text": [
      "[1, 2, 3, 4, 5]\n",
      "<class 'list'>\n"
     ]
    }
   ],
   "source": [
    "original_list = [1, 2, 2, 3, 4, 4, 5]\n",
    "new_list = []\n",
    "for item in original_list:\n",
    "    if item not in new_list:\n",
    "        new_list.append(item)\n",
    "\n",
    "print(new_list)\n",
    "print(type(new_list))"
   ]
  },
  {
   "cell_type": "code",
   "execution_count": 26,
   "id": "fe851d27",
   "metadata": {},
   "outputs": [
    {
     "name": "stdout",
     "output_type": "stream",
     "text": [
      "[1, 2, 3, 4, 7, 8]\n"
     ]
    }
   ],
   "source": [
    "#21-Find the common elements between two lists.\n",
    "list1=[1,2,3,4,5,6,7,8]\n",
    "list2=[2,3,4,7,8,9,1,0]\n",
    "common_elements=[element for element in list1 if element in list2]\n",
    "print(common_elements)    "
   ]
  },
  {
   "cell_type": "code",
   "execution_count": 3,
   "id": "71f43cd2",
   "metadata": {},
   "outputs": [
    {
     "name": "stdout",
     "output_type": "stream",
     "text": [
      "[2, 3, 4, 5, 6, 8, 9]\n"
     ]
    }
   ],
   "source": [
    "list1 = [1,2,3,4,5,5,6,8,9,2]\n",
    "list2 = [3,4,5,6,7,2,8,4,6,9]\n",
    "set1 = set(list1)\n",
    "set2 = set(list2)\n",
    "common_elements = list(set1.intersection(set2))\n",
    "print(common_elements)"
   ]
  },
  {
   "cell_type": "code",
   "execution_count": 8,
   "id": "908cf863",
   "metadata": {},
   "outputs": [
    {
     "name": "stdout",
     "output_type": "stream",
     "text": [
      "[1, 2]\n"
     ]
    }
   ],
   "source": [
    "#22- Find the difference between two lists.\n",
    "list1=[1,2,3,4,5,6]\n",
    "list2=[3,4,5,6,7,8,9]\n",
    "differences=[element for element in list1 if not element in list2]\n",
    "print(differences)"
   ]
  },
  {
   "cell_type": "code",
   "execution_count": 9,
   "id": "963e8624",
   "metadata": {},
   "outputs": [
    {
     "name": "stdout",
     "output_type": "stream",
     "text": [
      "[1, 2, 3, 4, 5, 6, 7, 8, 9, 3]\n"
     ]
    }
   ],
   "source": [
    "#23-Merge two lists.\n",
    "list1=[1,2,3,4,5]\n",
    "list2=[6,7,8,9,3]\n",
    "merged_list=list1+list2\n",
    "print(merged_list)"
   ]
  },
  {
   "cell_type": "code",
   "execution_count": 10,
   "id": "f2a90000",
   "metadata": {},
   "outputs": [
    {
     "name": "stdout",
     "output_type": "stream",
     "text": [
      "[1, 2, 3, 4, 5, 6, 7, 8, 9, 3]\n"
     ]
    }
   ],
   "source": [
    "list1=[1,2,3,4,5]\n",
    "list2=[6,7,8,9,3]\n",
    "list1.extend(list2)\n",
    "print(list1)"
   ]
  },
  {
   "cell_type": "code",
   "execution_count": 14,
   "id": "d23d2db9",
   "metadata": {},
   "outputs": [
    {
     "name": "stdout",
     "output_type": "stream",
     "text": [
      "[2, 4, 6, 8, 10]\n"
     ]
    }
   ],
   "source": [
    "#24-Multiply all elements in a list by 2.\n",
    "list=[1,2,3,4,5]\n",
    "new_list=[x*2 for x in my_list]\n",
    "print(new_list)"
   ]
  },
  {
   "cell_type": "code",
   "execution_count": 16,
   "id": "8301877c",
   "metadata": {},
   "outputs": [
    {
     "name": "stdout",
     "output_type": "stream",
     "text": [
      "[2, 4, 6, 8, 10]\n"
     ]
    }
   ],
   "source": [
    "#25-Filter out all even numbers from a list.\n",
    "my_list=[1,2,3,4,5,6,7,8,9,10]\n",
    "filtered_list=[x for x in my_list if x%2!=0]\n",
    "print(filtered_list)"
   ]
  },
  {
   "cell_type": "code",
   "execution_count": 17,
   "id": "512af532",
   "metadata": {},
   "outputs": [
    {
     "name": "stdout",
     "output_type": "stream",
     "text": [
      "[1, 3, 5, 7, 9]\n"
     ]
    }
   ],
   "source": [
    "#Filter out all odd numbers from a list.\n",
    "my_list = [1, 2, 3, 4, 5, 6, 7, 8, 9]\n",
    "\n",
    "filtered_list = [x for x in my_list if x % 2 == 0]\n",
    "\n",
    "print(filtered_list)"
   ]
  },
  {
   "cell_type": "code",
   "execution_count": 18,
   "id": "6430e1ae",
   "metadata": {},
   "outputs": [
    {
     "name": "stdout",
     "output_type": "stream",
     "text": [
      "[1, 2, 3, 4, 5, 6]\n"
     ]
    }
   ],
   "source": [
    "#26-Convert a list of strings to a list of integers.\n",
    "list_of_strings=[\"1\",\"2\",\"3\",\"4\",\"5\",\"6\"]\n",
    "list_of_integers=[int(x) for x in list_of_strings]\n",
    "print(list_of_integers)"
   ]
  },
  {
   "cell_type": "code",
   "execution_count": 21,
   "id": "4d0330b7",
   "metadata": {},
   "outputs": [
    {
     "name": "stdout",
     "output_type": "stream",
     "text": [
      "['1', '2', '3', '4', '5', '6', '7', '8', '9']\n"
     ]
    }
   ],
   "source": [
    "#27-Convert a list of integers to a list of strings.\n",
    "list_of_integers=[1,2,3,4,5,6,7,8,9]\n",
    "list_of_strings=[str(x) for x in list_of_integers]\n",
    "print(list_of_strings)"
   ]
  },
  {
   "cell_type": "code",
   "execution_count": 6,
   "id": "8b5a5df2",
   "metadata": {},
   "outputs": [
    {
     "name": "stdout",
     "output_type": "stream",
     "text": [
      "[1, 2, 3, 4, [5, 6], 7, 8, 9]\n"
     ]
    }
   ],
   "source": [
    "#28-Flatten a nested list\n",
    "nested_list = [[1, 2, 3], [4, [5, 6]], [7, 8], 9]\n",
    "flattened_list = [item for sublist in nested_list for item in (sublist if isinstance(sublist, list) else [sublist])]\n",
    "print(flattened_list)"
   ]
  },
  {
   "cell_type": "code",
   "execution_count": 2,
   "id": "4fabf78e",
   "metadata": {},
   "outputs": [
    {
     "name": "stdout",
     "output_type": "stream",
     "text": [
      "How many terms? 10\n",
      "Fibonacci sequence:\n",
      "0\n",
      "1\n",
      "1\n",
      "2\n",
      "3\n",
      "5\n",
      "8\n",
      "13\n",
      "21\n",
      "34\n",
      "10\n"
     ]
    }
   ],
   "source": [
    "#29-Create a list of the first 10 Fibonacci numbers.\n",
    "nterms = int(input(\"How many terms? \"))\n",
    "n1, n2 = 0, 1\n",
    "count = 0\n",
    "print(\"Fibonacci sequence:\")\n",
    "while count < nterms:\n",
    "    print(n1)\n",
    "    nth = n1 + n2\n",
    "    n1 = n2\n",
    "    n2 = nth\n",
    "    count += 1\n",
    "print(count)"
   ]
  },
  {
   "cell_type": "code",
   "execution_count": 4,
   "id": "f474fa64",
   "metadata": {},
   "outputs": [
    {
     "name": "stdout",
     "output_type": "stream",
     "text": [
      "[1, 2, 3, 4, 5, 6, 8, 9]\n"
     ]
    }
   ],
   "source": [
    "#30-Check if a list is sorted.\n",
    "list=[4,3,6,8,1,9,2,5]\n",
    "result=sorted(list)\n",
    "print(result)"
   ]
  },
  {
   "cell_type": "code",
   "execution_count": 6,
   "id": "50814980",
   "metadata": {},
   "outputs": [
    {
     "name": "stdout",
     "output_type": "stream",
     "text": [
      "[3, 4, 5, 6, 7, 1, 2]\n"
     ]
    }
   ],
   "source": [
    "#31-Rotate a list to the left by `n` positions.\n",
    "def rotate_left(lst,n):\n",
    "    if len(lst)==0:\n",
    "        return left\n",
    "    n=n%len(lst)\n",
    "    return lst[n:]+lst[:n]\n",
    "lst=[1,2,3,4,5,6,7]\n",
    "n=2\n",
    "rotate_lst=rotate_left(lst,n)\n",
    "print(rotate_lst)\n",
    "        "
   ]
  },
  {
   "cell_type": "code",
   "execution_count": 11,
   "id": "4589cad4",
   "metadata": {},
   "outputs": [
    {
     "name": "stdout",
     "output_type": "stream",
     "text": [
      "[3, 4, 5, 6, 7, 8, 9, 1, 2]\n"
     ]
    }
   ],
   "source": [
    "#32-Rotate a list to the right by `n` positions.\n",
    "def rotate_right(lst, n):\n",
    "    if len(lst) == 0:\n",
    "        return lst\n",
    "    n = n % len(lst)\n",
    "    return lst[-n:] + lst[:-n]\n",
    "lst = [1, 2, 3, 4, 5, 6, 7, 8, 9]\n",
    "n = 7\n",
    "rotate_lst = rotate_right(lst, n)\n",
    "print(rotate_lst)"
   ]
  },
  {
   "cell_type": "code",
   "execution_count": 20,
   "id": "9fd3557f",
   "metadata": {},
   "outputs": [
    {
     "name": "stdout",
     "output_type": "stream",
     "text": [
      "3\n",
      "5\n",
      "5\n",
      "5\n",
      "7\n",
      "7\n",
      "7\n",
      "7\n",
      "7\n",
      "9\n",
      "11\n",
      "11\n",
      "11\n",
      "11\n",
      "11\n",
      "11\n",
      "11\n",
      "11\n",
      "11\n",
      "13\n",
      "13\n",
      "13\n",
      "13\n",
      "13\n",
      "13\n",
      "13\n",
      "13\n",
      "13\n",
      "13\n",
      "13\n",
      "15\n",
      "17\n",
      "17\n",
      "17\n",
      "17\n",
      "17\n",
      "17\n",
      "17\n",
      "17\n",
      "17\n",
      "17\n",
      "17\n",
      "17\n",
      "17\n",
      "17\n",
      "17\n",
      "19\n",
      "19\n",
      "19\n",
      "19\n",
      "19\n",
      "19\n",
      "19\n",
      "19\n",
      "19\n",
      "19\n",
      "19\n",
      "19\n",
      "19\n",
      "19\n",
      "19\n",
      "19\n",
      "19\n",
      "21\n",
      "23\n",
      "23\n",
      "23\n",
      "23\n",
      "23\n",
      "23\n",
      "23\n",
      "23\n",
      "23\n",
      "23\n",
      "23\n",
      "23\n",
      "23\n",
      "23\n",
      "23\n",
      "23\n",
      "23\n",
      "23\n",
      "23\n",
      "23\n",
      "23\n",
      "25\n",
      "25\n",
      "25\n",
      "27\n",
      "29\n",
      "29\n",
      "29\n",
      "29\n",
      "29\n",
      "29\n",
      "29\n",
      "29\n",
      "29\n",
      "29\n",
      "29\n",
      "29\n",
      "29\n",
      "29\n",
      "29\n",
      "29\n",
      "29\n",
      "29\n",
      "29\n",
      "29\n",
      "29\n",
      "29\n",
      "29\n",
      "29\n",
      "29\n",
      "29\n",
      "29\n",
      "31\n",
      "31\n",
      "31\n",
      "31\n",
      "31\n",
      "31\n",
      "31\n",
      "31\n",
      "31\n",
      "31\n",
      "31\n",
      "31\n",
      "31\n",
      "31\n",
      "31\n",
      "31\n",
      "31\n",
      "31\n",
      "31\n",
      "31\n",
      "31\n",
      "31\n",
      "31\n",
      "31\n",
      "31\n",
      "31\n",
      "31\n",
      "31\n",
      "31\n",
      "33\n",
      "35\n",
      "35\n",
      "35\n",
      "37\n",
      "37\n",
      "37\n",
      "37\n",
      "37\n",
      "37\n",
      "37\n",
      "37\n",
      "37\n",
      "37\n",
      "37\n",
      "37\n",
      "37\n",
      "37\n",
      "37\n",
      "37\n",
      "37\n",
      "37\n",
      "37\n",
      "37\n",
      "37\n",
      "37\n",
      "37\n",
      "37\n",
      "37\n",
      "37\n",
      "37\n",
      "37\n",
      "37\n",
      "37\n",
      "37\n",
      "37\n",
      "37\n",
      "37\n",
      "37\n",
      "39\n",
      "41\n",
      "41\n",
      "41\n",
      "41\n",
      "41\n",
      "41\n",
      "41\n",
      "41\n",
      "41\n",
      "41\n",
      "41\n",
      "41\n",
      "41\n",
      "41\n",
      "41\n",
      "41\n",
      "41\n",
      "41\n",
      "41\n",
      "41\n",
      "41\n",
      "41\n",
      "41\n",
      "41\n",
      "41\n",
      "41\n",
      "41\n",
      "41\n",
      "41\n",
      "41\n",
      "41\n",
      "41\n",
      "41\n",
      "41\n",
      "41\n",
      "41\n",
      "41\n",
      "41\n",
      "41\n",
      "43\n",
      "43\n",
      "43\n",
      "43\n",
      "43\n",
      "43\n",
      "43\n",
      "43\n",
      "43\n",
      "43\n",
      "43\n",
      "43\n",
      "43\n",
      "43\n",
      "43\n",
      "43\n",
      "43\n",
      "43\n",
      "43\n",
      "43\n",
      "43\n",
      "43\n",
      "43\n",
      "43\n",
      "43\n",
      "43\n",
      "43\n",
      "43\n",
      "43\n",
      "43\n",
      "43\n",
      "43\n",
      "43\n",
      "43\n",
      "43\n",
      "43\n",
      "43\n",
      "43\n",
      "43\n",
      "43\n",
      "43\n",
      "45\n",
      "47\n",
      "47\n",
      "47\n",
      "47\n",
      "47\n",
      "47\n",
      "47\n",
      "47\n",
      "47\n",
      "47\n",
      "47\n",
      "47\n",
      "47\n",
      "47\n",
      "47\n",
      "47\n",
      "47\n",
      "47\n",
      "47\n",
      "47\n",
      "47\n",
      "47\n",
      "47\n",
      "47\n",
      "47\n",
      "47\n",
      "47\n",
      "47\n",
      "47\n",
      "47\n",
      "47\n",
      "47\n",
      "47\n",
      "47\n",
      "47\n",
      "47\n",
      "47\n",
      "47\n",
      "47\n",
      "47\n",
      "47\n",
      "47\n",
      "47\n",
      "47\n",
      "47\n",
      "49\n",
      "49\n",
      "49\n",
      "49\n",
      "49\n"
     ]
    }
   ],
   "source": [
    "#33-Create a list of prime numbers up to 50.\n",
    "for num in range(lower, upper + 1):\n",
    "    if num > 1:\n",
    "        for i in range(2, num):\n",
    "            if (num % i) == 0:\n",
    "                break\n",
    "            else:\n",
    "                print(num)"
   ]
  },
  {
   "cell_type": "code",
   "execution_count": 32,
   "id": "aa192b6b",
   "metadata": {},
   "outputs": [
    {
     "name": "stdout",
     "output_type": "stream",
     "text": [
      "[2, 3, 5, 7, 11, 13, 17, 19, 23, 29, 31, 37, 41, 43, 47]\n"
     ]
    }
   ],
   "source": [
    "#34-Create a list of prime numbers up to 50. \n",
    "def is_prime(n):\n",
    "    if n < 2:\n",
    "        return False\n",
    "    for i in range(2, int(n**0.5) + 1):\n",
    "        if n % i == 0:\n",
    "            return False\n",
    "    return True\n",
    "prime_list = [n for n in range(2, 51) if is_prime(n)]\n",
    "print(prime_list)"
   ]
  },
  {
   "cell_type": "code",
   "execution_count": 54,
   "id": "eba86f0f",
   "metadata": {},
   "outputs": [
    {
     "name": "stdout",
     "output_type": "stream",
     "text": [
      "[[1, 2, 3], [4, 5, 6], [7, 8, 9]]\n"
     ]
    }
   ],
   "source": [
    "#35-Split a list into chunks of size `n'.\n",
    "def split_list(input_list, n):\n",
    "    return [input_list[i:i + n] for i in range(0, len(input_list), n)]\n",
    "my_list = [1, 2, 3, 4, 5, 6, 7, 8, 9]\n",
    "chunk_size = 3\n",
    "chunks = split_list(my_list, chunk_size)\n",
    "print(chunks)"
   ]
  },
  {
   "cell_type": "code",
   "execution_count": 7,
   "id": "54634424",
   "metadata": {},
   "outputs": [
    {
     "name": "stdout",
     "output_type": "stream",
     "text": [
      "The second largest number is: 90\n"
     ]
    }
   ],
   "source": [
    "#36-Find the second largest number in a list.\n",
    "def find_second_largest(numbers):\n",
    "    if len(numbers) < 2:\n",
    "        return \"List should contain at least two numbers\"\n",
    "    sorted_numbers = sorted(numbers, reverse=True)\n",
    "    return sorted_numbers[1]\n",
    "numbers = [34,67,98,90,56,34,78]\n",
    "result = find_second_largest(numbers)\n",
    "print(\"The second largest number is:\", result)"
   ]
  },
  {
   "cell_type": "code",
   "execution_count": 8,
   "id": "fe6edc2e",
   "metadata": {},
   "outputs": [
    {
     "name": "stdout",
     "output_type": "stream",
     "text": [
      "[4, 9, 16, 25, 36, 49, 64, 81]\n"
     ]
    }
   ],
   "source": [
    "#37-Replace every element in a list with its square.\n",
    "def square_elements(numbers):\n",
    "    for i in range(len(numbers)):\n",
    "        numbers[i]=numbers[i]**2\n",
    "numbers=[2,3,4,5,6,7,8,9]\n",
    "square_elements(numbers)\n",
    "print(numbers)"
   ]
  },
  {
   "cell_type": "code",
   "execution_count": 9,
   "id": "ca5a2095",
   "metadata": {},
   "outputs": [
    {
     "name": "stdout",
     "output_type": "stream",
     "text": [
      "{'horse': 0, 'tiger': 1, 'giraffe': 2, 'elephant': 3, 'kangaroo': 4, 'lion': 5, 'cheetah': 6}\n"
     ]
    }
   ],
   "source": [
    "#38-convert a list to a dictionary where list elements become keys and their indices become values.\n",
    "my_list=[\"horse\",\"tiger\",\"giraffe\",\"elephant\",\"kangaroo\",\"lion\",\"cheetah\"]\n",
    "my_dict={value:index for index,value in enumerate(my_list)}\n",
    "print(my_dict)"
   ]
  },
  {
   "cell_type": "code",
   "execution_count": 15,
   "id": "5883328f",
   "metadata": {},
   "outputs": [
    {
     "name": "stdout",
     "output_type": "stream",
     "text": [
      "[4, 7, 8, 6, 3, 4, 7, 9]\n"
     ]
    }
   ],
   "source": [
    "#39-Shuffle the elements of a list randomly.\n",
    "import random\n",
    "my_list=[4,7,8,3,7,9,4,6]\n",
    "random.shuffle(my_list)\n",
    "print(my_list)"
   ]
  },
  {
   "cell_type": "code",
   "execution_count": 17,
   "id": "d9912d89",
   "metadata": {},
   "outputs": [
    {
     "name": "stdout",
     "output_type": "stream",
     "text": [
      "[1, 2, 6, 24, 120, 720, 5040, 40320, 362880, 3628800]\n"
     ]
    }
   ],
   "source": [
    "#39@1 -Create a list of the first 10 factorial numbers\n",
    "def factorial(n):\n",
    "    if n==0:\n",
    "        return 1\n",
    "    else:\n",
    "        return n*factorial(n-1)\n",
    "first_10_factorial_numbers=[factorial(n) for n in range(1,11)]\n",
    "print(first_10_factorial_numbers)"
   ]
  },
  {
   "cell_type": "code",
   "execution_count": 30,
   "id": "ee591888",
   "metadata": {},
   "outputs": [
    {
     "name": "stdout",
     "output_type": "stream",
     "text": [
      "True\n"
     ]
    }
   ],
   "source": [
    "#40-Check if two lists have at least one element in common.\n",
    "def have_common_elements(list1,list2):\n",
    "    for item1 in list1:\n",
    "        for item2 in list2:\n",
    "            if item1==item2:\n",
    "                return True\n",
    "        return False\n",
    "list1=[1,2,3,4,5]\n",
    "list2=[1,2,6,4,5]\n",
    "result=have_common_elements(list1,list2)\n",
    "print(result)"
   ]
  },
  {
   "cell_type": "code",
   "execution_count": 40,
   "id": "dea3aab8",
   "metadata": {},
   "outputs": [
    {
     "name": "stdout",
     "output_type": "stream",
     "text": [
      "[1, 2, 3, 4, 5]\n",
      "[1, 2, 3, 4, 5, 'tiger']\n",
      "[1, 2, 3, 4, 5, 'lion', 'tiger']\n",
      "[]\n"
     ]
    }
   ],
   "source": [
    "#41-. Remove all elements from a list.\n",
    "list=[1,2,3,4,5]\n",
    "print(list)\n",
    "list.append(\"tiger\")\n",
    "print(list)\n",
    "list.insert(5,\"lion\")\n",
    "print(list)\n",
    "list.clear()\n",
    "print(list)"
   ]
  },
  {
   "cell_type": "code",
   "execution_count": 46,
   "id": "a76efec5",
   "metadata": {},
   "outputs": [
    {
     "name": "stdout",
     "output_type": "stream",
     "text": [
      "[2, 0, 7, 6, 0, 0]\n"
     ]
    }
   ],
   "source": [
    "#42-Replace negative numbers in a list with 0.\n",
    "def replace_negative_with_zero(numbers):\n",
    "    for i in range(len(numbers)):\n",
    "        if numbers[i]<0:\n",
    "            numbers[i]=0\n",
    "list=[2,-4,7,6,-8,-1]\n",
    "replace_negative_with_zero(list)\n",
    "print(list)"
   ]
  },
  {
   "cell_type": "code",
   "execution_count": 48,
   "id": "43bc720c",
   "metadata": {},
   "outputs": [
    {
     "name": "stdout",
     "output_type": "stream",
     "text": [
      "['pwskills', 'is', 'good', 'at', 'data', 'science.']\n"
     ]
    }
   ],
   "source": [
    "#43-Convert a string into a list of words.\n",
    "string=\"pwskills is good at data science.\"\n",
    "my_list=string.split()\n",
    "print(my_list)"
   ]
  },
  {
   "cell_type": "code",
   "execution_count": 51,
   "id": "e6a53d93",
   "metadata": {},
   "outputs": [
    {
     "name": "stdout",
     "output_type": "stream",
     "text": [
      "hello I am good at python and data science .\n"
     ]
    }
   ],
   "source": [
    "#44-Convert a list of words into a string.\n",
    "my_list=[\"hello\",\"I\", \"am\",\"good\",\"at\",\"python\",\"and\",\"data\",\"science\",\".\"]\n",
    "my_string=' ' .join(my_list)\n",
    "print(my_string)"
   ]
  },
  {
   "cell_type": "code",
   "execution_count": 54,
   "id": "b465400f",
   "metadata": {},
   "outputs": [
    {
     "name": "stdout",
     "output_type": "stream",
     "text": [
      "enter the number:5\n",
      "[1, 2, 4, 8, 16]\n"
     ]
    }
   ],
   "source": [
    "#45-Create a list of the first `n` powers of 2.\n",
    "n=int(input(\"enter the number:\"))\n",
    "power_of_2=[2** i for i in range(n)]\n",
    "print(power_of_2)"
   ]
  },
  {
   "cell_type": "code",
   "execution_count": 56,
   "id": "7513b706",
   "metadata": {},
   "outputs": [
    {
     "name": "stdout",
     "output_type": "stream",
     "text": [
      "united states of america\n"
     ]
    }
   ],
   "source": [
    "#46-Find the longest string in a list of strings.\n",
    "list_of_strings=[\"tiger\",\"elephant\",\"environment\",\"zebra\",\"united states of america\",\"london\"]\n",
    "result=max(list_of_strings,key=len)\n",
    "print(result)"
   ]
  },
  {
   "cell_type": "code",
   "execution_count": 57,
   "id": "3a3db5e6",
   "metadata": {},
   "outputs": [
    {
     "name": "stdout",
     "output_type": "stream",
     "text": [
      "tiger\n"
     ]
    }
   ],
   "source": [
    "#47-Find the shortest string in a list of strings.\n",
    "list_of_strings=[\"tiger\",\"elephant\",\"environment\",\"zebra\",\"united states of america\",\"london\"]\n",
    "result=min(list_of_strings,key=len)\n",
    "print(result)"
   ]
  },
  {
   "cell_type": "code",
   "execution_count": 64,
   "id": "f4fd8969",
   "metadata": {},
   "outputs": [
    {
     "name": "stdout",
     "output_type": "stream",
     "text": [
      "enter a number:5\n",
      "[1, 3, 6, 10, 15]\n"
     ]
    }
   ],
   "source": [
    "#48-Create a list of the first `n` triangular numbers.\n",
    "n=int(input(\"enter a number:\"))\n",
    "triangular_numbers=[]\n",
    "for i in range(1,n+1):\n",
    "    tn=i*(i+1)//2\n",
    "    triangular_numbers.append(tn)\n",
    "print(triangular_numbers)"
   ]
  },
  {
   "cell_type": "code",
   "execution_count": 69,
   "id": "a1321a77",
   "metadata": {},
   "outputs": [
    {
     "name": "stdout",
     "output_type": "stream",
     "text": [
      "True\n"
     ]
    }
   ],
   "source": [
    "#49-Check if a list contains another list as a subsequence.\n",
    "def is_subsequence(sublist,mainlist):\n",
    "    i=0\n",
    "    j=0\n",
    "    while i<len(mainlist) and j<len(sublist):\n",
    "        if mainlist[i]==sublist[j]:\n",
    "            j+=1\n",
    "        i+=1\n",
    "    return j==len(sublist)\n",
    "mainlist=[1,2,3,4,5,6]\n",
    "sublist=[1,4,6]\n",
    "result=is_subsequence(sublist,mainlist)\n",
    "print(result)         "
   ]
  },
  {
   "cell_type": "code",
   "execution_count": 72,
   "id": "24c8b2f1",
   "metadata": {},
   "outputs": [
    {
     "name": "stdout",
     "output_type": "stream",
     "text": [
      "after swapping: [1, 2, 3, 4, 5, 6]\n"
     ]
    }
   ],
   "source": [
    "#50-Swap two elements in a list by their indices.\n",
    "def swap_of_elements_by_indices(my_list,index1,index2):\n",
    "    if 0<=index1<len(my_list) and 0<=index2<len(my_list):\n",
    "        my_list[index1],my_list[index2]==my_list[index2],my_list[index1]\n",
    "        return True\n",
    "    else:\n",
    "        return False\n",
    "my_list=[1,2,3,4,5,6]\n",
    "index1=2\n",
    "index2=5\n",
    "result=swap_of_elements_by_indices(my_list,index1,index2)\n",
    "if result:\n",
    "    print(\"after swapping:\",my_list)\n",
    "else:\n",
    "    print(\"invalid indices,no swapping required.\")"
   ]
  },
  {
   "cell_type": "markdown",
   "id": "ead2a1fb",
   "metadata": {},
   "source": [
    "# Tuple Based Practice Problems"
   ]
  },
  {
   "cell_type": "code",
   "execution_count": 73,
   "id": "d17a011b",
   "metadata": {},
   "outputs": [
    {
     "name": "stdout",
     "output_type": "stream",
     "text": [
      "(1, 2, 3, 4, 5)\n"
     ]
    }
   ],
   "source": [
    "#1-Create a tuple with integers from 1 to 5.\n",
    "tuple=(1,2,3,4,5)\n",
    "print(tuple)"
   ]
  },
  {
   "cell_type": "code",
   "execution_count": 76,
   "id": "6696a95e",
   "metadata": {},
   "outputs": [
    {
     "name": "stdout",
     "output_type": "stream",
     "text": [
      "the third_element of a tuple is: 3\n"
     ]
    }
   ],
   "source": [
    "#2-Access the third element of a tuple.\n",
    "my_tuple=(1,2,3,4,5)\n",
    "third_element=my_tuple[2]\n",
    "print(\"the third_element of a tuple is:\",third_element)"
   ]
  },
  {
   "cell_type": "code",
   "execution_count": 12,
   "id": "f0b1859b",
   "metadata": {},
   "outputs": [
    {
     "name": "stdout",
     "output_type": "stream",
     "text": [
      "length without using the len() function is: 8\n"
     ]
    }
   ],
   "source": [
    "#3-Find the length of a tuple without using the `len()` function.\n",
    "my_tuple=(1,2,3,4,5,6,7,8)\n",
    "length=0\n",
    "for element in my_tuple:\n",
    "    length+=1\n",
    "print(\"length without using the len() function is:\",length)"
   ]
  },
  {
   "cell_type": "code",
   "execution_count": 10,
   "id": "607976b4",
   "metadata": {},
   "outputs": [
    {
     "name": "stdout",
     "output_type": "stream",
     "text": [
      "7\n"
     ]
    }
   ],
   "source": [
    "#4-Count the occurrences of an element in a tuple\n",
    "my_tuple=(1,2,2,3,2,2,4,6,8,9,7,5,2,3,2,2)\n",
    "count_of_2=my_tuple.count(2)\n",
    "print(count_of_2)\n",
    "    "
   ]
  },
  {
   "cell_type": "code",
   "execution_count": 15,
   "id": "150cd251",
   "metadata": {},
   "outputs": [
    {
     "name": "stdout",
     "output_type": "stream",
     "text": [
      "5\n"
     ]
    }
   ],
   "source": [
    "#5-Find the index of the first occurrence of an element in a tuple.\n",
    "my_tuple=(4,5,6,7,8,9,2,3,5,4)\n",
    "index_of_5=my_tuple.index(9)\n",
    "print(index_of_5)s"
   ]
  },
  {
   "cell_type": "code",
   "execution_count": 23,
   "id": "4e3208d2",
   "metadata": {},
   "outputs": [
    {
     "name": "stdout",
     "output_type": "stream",
     "text": [
      "the element exits in a tuple.\n"
     ]
    }
   ],
   "source": [
    "#6-Check if an element exists in a tuple.\n",
    "my_tuple=(13,4,5,6,7,8,9)\n",
    "element=5\n",
    "if element in my_tuple:\n",
    "    print(\"the element exits in a tuple.\")\n",
    "else:\n",
    "    print(\"the element does not exits in a tuple.\")\n"
   ]
  },
  {
   "cell_type": "code",
   "execution_count": 26,
   "id": "ceabc819",
   "metadata": {},
   "outputs": [
    {
     "name": "stdout",
     "output_type": "stream",
     "text": [
      "the element does not exits in a tuple.\n"
     ]
    }
   ],
   "source": [
    "my_tuple=(13,4,5,6,7,8,9)\n",
    "element=10\n",
    "if element in my_tuple:\n",
    "    print(f\"the element exits in a tuple.\")\n",
    "else:\n",
    "    print(f\"the element does not exits in a tuple.\")"
   ]
  },
  {
   "cell_type": "code",
   "execution_count": 27,
   "id": "8689e901",
   "metadata": {},
   "outputs": [
    {
     "name": "stdout",
     "output_type": "stream",
     "text": [
      "(4, 5, 6, 7, 8, 9)\n",
      "[4, 5, 6, 7, 8, 9]\n"
     ]
    }
   ],
   "source": [
    "#7-Convert a tuple to a list.\n",
    "my_tuple=(4,5,6,7,8,9)\n",
    "my_list=list(my_tuple)\n",
    "print(my_tuple)\n",
    "print(my_list)"
   ]
  },
  {
   "cell_type": "code",
   "execution_count": 33,
   "id": "14422148",
   "metadata": {},
   "outputs": [
    {
     "name": "stdout",
     "output_type": "stream",
     "text": [
      "['tiger', 'lion', 'horse', 'deer', 'panda']\n",
      "('tiger', 'lion', 'horse', 'deer', 'panda')\n"
     ]
    }
   ],
   "source": [
    "#8-Convert a list to a tuple.\n",
    "my_list=[\"tiger\",\"lion\",\"horse\",\"deer\",\"panda\"]\n",
    "my_tuple=tuple(my_list)\n",
    "print(my_list)\n",
    "print(my_tuple)"
   ]
  },
  {
   "cell_type": "code",
   "execution_count": 46,
   "id": "c01baa08",
   "metadata": {},
   "outputs": [
    {
     "name": "stdout",
     "output_type": "stream",
     "text": [
      "a: 1\n",
      "b: 2\n",
      "c: 3\n",
      "d: 4\n",
      "e: 5\n"
     ]
    }
   ],
   "source": [
    "#9- Unpack the elements of a tuple into variables.\n",
    "my_tuple=(1,2,3,4,5)\n",
    "a,b,c,d,e=my_tuple\n",
    "print(\"a:\",1)\n",
    "print(\"b:\",2)\n",
    "print(\"c:\",3)\n",
    "print(\"d:\",4)\n",
    "print(\"e:\",5)"
   ]
  },
  {
   "cell_type": "code",
   "execution_count": 51,
   "id": "96276929",
   "metadata": {},
   "outputs": [
    {
     "name": "stdout",
     "output_type": "stream",
     "text": [
      "(2, 4, 6, 8, 10)\n"
     ]
    }
   ],
   "source": [
    "#10-Create a tuple of even numbers from 1 to 10.\n",
    "even_numbers=tuple( x for x in range(2,12,2))\n",
    "print(even_numbers)"
   ]
  },
  {
   "cell_type": "code",
   "execution_count": 56,
   "id": "61e39405",
   "metadata": {},
   "outputs": [
    {
     "name": "stdout",
     "output_type": "stream",
     "text": [
      "(1, 3, 5, 7, 9)\n"
     ]
    }
   ],
   "source": [
    "#11-Create a tuple of odd numbers from 1 to 10.\n",
    "odd_numbers=tuple(x for x in range(1,10,2))\n",
    "print(odd_numbers)"
   ]
  },
  {
   "cell_type": "code",
   "execution_count": 58,
   "id": "18405ba8",
   "metadata": {},
   "outputs": [
    {
     "name": "stdout",
     "output_type": "stream",
     "text": [
      "(1, 2, 3, 4, 5, 6, 7, 8, 9, 10)\n"
     ]
    }
   ],
   "source": [
    "#12-Concatenate two tuples.\n",
    "tuple1=(1,2,3,4,5)\n",
    "tuple2=(6,7,8,9,10)\n",
    "result=tuple1+tuple2\n",
    "print(result)"
   ]
  },
  {
   "cell_type": "code",
   "execution_count": 59,
   "id": "a622b9c8",
   "metadata": {},
   "outputs": [
    {
     "name": "stdout",
     "output_type": "stream",
     "text": [
      "(2, 3, 4, 5, 6, 2, 3, 4, 5, 6, 2, 3, 4, 5, 6)\n"
     ]
    }
   ],
   "source": [
    "#13-Repeat a tuple three times.\n",
    "tuple1=(2,3,4,5,6)\n",
    "result=3*tuple1\n",
    "print(result)"
   ]
  },
  {
   "cell_type": "code",
   "execution_count": 60,
   "id": "443c89f1",
   "metadata": {},
   "outputs": [
    {
     "name": "stdout",
     "output_type": "stream",
     "text": [
      "tuple is empty.\n"
     ]
    }
   ],
   "source": [
    "#14-Check if a tuple is empty.\n",
    "my_tuple=()\n",
    "if not my_tuple:\n",
    "    print(\"tuple is empty.\")\n",
    "else:\n",
    "    print(\"tuple is not empty.\")"
   ]
  },
  {
   "cell_type": "code",
   "execution_count": 61,
   "id": "1a02680a",
   "metadata": {},
   "outputs": [
    {
     "name": "stdout",
     "output_type": "stream",
     "text": [
      "((1, 2, 3), (4, 5, 6), (7, 8, 9))\n"
     ]
    }
   ],
   "source": [
    "#15-Create a nested tuple.\n",
    "nested_tuple=((1,2,3),(4,5,6),(7,8,9))\n",
    "print(nested_tuple)"
   ]
  },
  {
   "cell_type": "code",
   "execution_count": 62,
   "id": "87be43c3",
   "metadata": {},
   "outputs": [
    {
     "name": "stdout",
     "output_type": "stream",
     "text": [
      "first element of a nested tuple is: 1\n"
     ]
    }
   ],
   "source": [
    "#16-Access the first element of a nested tuple.\n",
    "nested_tuple=((1,2,3),(4,5,6),(7,8,9))\n",
    "first_element=nested_tuple[0][0]\n",
    "print(\"first element of a nested tuple is:\",first_element)"
   ]
  },
  {
   "cell_type": "code",
   "execution_count": 64,
   "id": "3ca4b75f",
   "metadata": {},
   "outputs": [
    {
     "name": "stdout",
     "output_type": "stream",
     "text": [
      "(1,)\n",
      "<class 'tuple'>\n"
     ]
    }
   ],
   "source": [
    "#17-Create a tuple with a single element.\n",
    "my_tuple=(1,)\n",
    "print(my_tuple)\n",
    "print(type(my_tuple))"
   ]
  },
  {
   "cell_type": "code",
   "execution_count": 68,
   "id": "e857accc",
   "metadata": {},
   "outputs": [
    {
     "name": "stdout",
     "output_type": "stream",
     "text": [
      "both are not equal.\n",
      "tuple1 is less tha the tuple2.\n",
      "tuple1 not greater than the tuple2.\n"
     ]
    }
   ],
   "source": [
    "#18-Compare two tuples.\n",
    "tuple1=(1,2,3,4)\n",
    "tuple2=(4,5,6,7)\n",
    "if tuple1==tuple2:\n",
    "    print(\"both are equal.\")\n",
    "else:\n",
    "    print(\"both are not equal.\")\n",
    "if tuple1<tuple2:\n",
    "    print(\"tuple1 is less tha the tuple2.\")\n",
    "else:\n",
    "    print(\"tuple1 is not less than the tuple2.\")\n",
    "if tuple1>tuple2:\n",
    "    print(\"tuple1 is greater than the tuple2.\")\n",
    "else:\n",
    "    print(\"tuple1 not greater than the tuple2.\")"
   ]
  },
  {
   "cell_type": "code",
   "execution_count": 14,
   "id": "174f1d02",
   "metadata": {},
   "outputs": [],
   "source": [
    "#19-Delete a tuple\n",
    "my_tuple = (1, 2, 3, 4, 5)\n",
    "del my_tuple"
   ]
  },
  {
   "cell_type": "code",
   "execution_count": 11,
   "id": "3b138d6f",
   "metadata": {},
   "outputs": [
    {
     "name": "stdout",
     "output_type": "stream",
     "text": [
      "(3, 4, 5)\n"
     ]
    }
   ],
   "source": [
    "#20-Slice a tuple\n",
    "my_tuple=(1,2,3,4,5,6)\n",
    "result=my_tuple[2:5]\n",
    "print(result)"
   ]
  },
  {
   "cell_type": "code",
   "execution_count": 15,
   "id": "1d784931",
   "metadata": {},
   "outputs": [
    {
     "name": "stdout",
     "output_type": "stream",
     "text": [
      "90\n"
     ]
    }
   ],
   "source": [
    "#21-Find the maximum value in a tuple.\n",
    "my_tuple=(45,67,89,90,34,45,25)\n",
    "result=max(my_tuple)\n",
    "print(result)"
   ]
  },
  {
   "cell_type": "code",
   "execution_count": 16,
   "id": "f1ae584a",
   "metadata": {},
   "outputs": [
    {
     "name": "stdout",
     "output_type": "stream",
     "text": [
      "25\n"
     ]
    }
   ],
   "source": [
    "#22-Find the minimum value in a tuple.\n",
    "my_tuple=(45,67,89,90,34,45,25)\n",
    "result=min(my_tuple)\n",
    "print(result)"
   ]
  },
  {
   "cell_type": "code",
   "execution_count": 19,
   "id": "dcc9ab3f",
   "metadata": {},
   "outputs": [
    {
     "name": "stdout",
     "output_type": "stream",
     "text": [
      "('s', 'u', 'p', 'r', 'i', 'y', 'a', ' ', 'y', 'a', 'r', 'r', 'a', 'n', 'n', 'a', 'g', 'a', 'r', 'i')\n",
      "<class 'tuple'>\n"
     ]
    }
   ],
   "source": [
    "#23-Convert a string to a tuple of characters.\n",
    "my_string=\"supriya yarrannagari\"\n",
    "my_tuple=tuple(my_string)\n",
    "print(my_tuple)\n",
    "print(type(my_tuple))"
   ]
  },
  {
   "cell_type": "code",
   "execution_count": 25,
   "id": "5e692b54",
   "metadata": {},
   "outputs": [
    {
     "name": "stdout",
     "output_type": "stream",
     "text": [
      "hello good morning to everyone\n"
     ]
    }
   ],
   "source": [
    "#24-Convert a tuple of characters to a string.\n",
    "my_tuple=(\"hello\", \"good\",\"morning\",\"to\",\"everyone\")\n",
    "my_string=' '.join(my_tuple)\n",
    "print(my_string)"
   ]
  },
  {
   "cell_type": "code",
   "execution_count": 26,
   "id": "8f6e05a8",
   "metadata": {},
   "outputs": [
    {
     "name": "stdout",
     "output_type": "stream",
     "text": [
      "(1, 3.14, 'hello', True)\n"
     ]
    }
   ],
   "source": [
    "#25-Create a tuple from multiple data types.\n",
    "my_tuple=(1,3.14,\"hello\",True)\n",
    "print(my_tuple)"
   ]
  },
  {
   "cell_type": "code",
   "execution_count": 28,
   "id": "9f789894",
   "metadata": {},
   "outputs": [
    {
     "name": "stdout",
     "output_type": "stream",
     "text": [
      " tuples are not identical.\n",
      "1759611123360\n",
      "1759611120880\n"
     ]
    }
   ],
   "source": [
    "#26-Check if two tuples are identical\n",
    "tuple1=(1,2,3,4)\n",
    "tuple2=(5,6,7,8)\n",
    "if tuple1==tuple2:\n",
    "    print(\"tuples are identical.\")\n",
    "else:\n",
    "    print(\" tuples are not identical.\")\n",
    "print(id(tuple1))\n",
    "print(id(tuple2))"
   ]
  },
  {
   "cell_type": "code",
   "execution_count": 36,
   "id": "e54081a6",
   "metadata": {},
   "outputs": [
    {
     "name": "stdout",
     "output_type": "stream",
     "text": [
      "(5, 3, 7, 9, 2, 8, 1, 6)\n",
      "(1, 2, 3, 5, 6, 7, 8, 9)\n"
     ]
    }
   ],
   "source": [
    "#27- Sort the elements of a tuple.\n",
    "tuple1=(5,3,7,9,2,8,1,6)\n",
    "sorted_tuple=tuple(sorted(tuple1))\n",
    "print(tuple1)\n",
    "print(sorted_tuple)"
   ]
  },
  {
   "cell_type": "code",
   "execution_count": 49,
   "id": "29ddbc5e",
   "metadata": {},
   "outputs": [
    {
     "name": "stdout",
     "output_type": "stream",
     "text": [
      "(1, 2, 3, 4, 5)\n",
      "('1', '2', '3', '4', '5')\n"
     ]
    }
   ],
   "source": [
    "#28-Convert a tuple of integers to a tuple of strings.\n",
    "tuple_of_integers=(1,2,3,4,5)\n",
    "tuple_of_strings=tuple(str(x) for x in tuple_of_integers)\n",
    "print(tuple_of_integers)\n",
    "print(tuple_of_strings)"
   ]
  },
  {
   "cell_type": "code",
   "execution_count": 48,
   "id": "3a2c16f6",
   "metadata": {},
   "outputs": [
    {
     "name": "stdout",
     "output_type": "stream",
     "text": [
      "('1', '2', '3', '4', '5', '6')\n",
      "(1, 2, 3, 4, 5, 6)\n"
     ]
    }
   ],
   "source": [
    "#29-Convert a tuple of strings to a tuple of integers.\n",
    "tuple_of_strings=('1','2','3','4','5','6')\n",
    "tuple_of_integers=tuple(int(x) for x in tuple_of_strings)\n",
    "print(tuple_of_strings)\n",
    "print(tuple_of_integers)"
   ]
  },
  {
   "cell_type": "code",
   "execution_count": 52,
   "id": "d93709cb",
   "metadata": {},
   "outputs": [
    {
     "name": "stdout",
     "output_type": "stream",
     "text": [
      "(1, 2, 3, 4)\n",
      "(5, 6, 7, 8)\n",
      "merged tuple: (1, 2, 3, 4, 5, 6, 7, 8)\n"
     ]
    }
   ],
   "source": [
    "#30-Merge two tuples.\n",
    "tuple1=(1,2,3,4)\n",
    "tuple2=(5,6,7,8)\n",
    "print(tuple1)\n",
    "print(tuple2)\n",
    "merged_tuple=tuple1+tuple2\n",
    "print(\"merged tuple:\",merged_tuple)"
   ]
  },
  {
   "cell_type": "code",
   "execution_count": 55,
   "id": "f10c863b",
   "metadata": {},
   "outputs": [
    {
     "name": "stdout",
     "output_type": "stream",
     "text": [
      "(1, (2, 3), 4, (5, 6), 7)\n",
      "(1, 2, 3, 4, 5, 6, 7)\n"
     ]
    }
   ],
   "source": [
    "#31-Flatten a nested tuple\n",
    "def flattened_tuple(nested_tuple):\n",
    "    flat_list=[]\n",
    "    for item in nested_tuple:\n",
    "        if isinstance (item,tuple):\n",
    "            flat_list.extend(flattened_tuple(item))\n",
    "        else:\n",
    "            flat_list.append(item)\n",
    "    return tuple(flat_list)\n",
    "nested_tuple=(1,(2,3),4,(5,6),7)\n",
    "result=flattened_tuple(nested_tuple)\n",
    "print(nested_tuple)\n",
    "print(result)"
   ]
  },
  {
   "cell_type": "code",
   "execution_count": 56,
   "id": "c93a1ea1",
   "metadata": {},
   "outputs": [
    {
     "name": "stdout",
     "output_type": "stream",
     "text": [
      "(2, 3, 5, 7, 11)\n"
     ]
    }
   ],
   "source": [
    "#32-Create a tuple of the first 5 prime numbers.\n",
    "prime_numbers=(2,3,5,7,11)\n",
    "print(prime_numbers)"
   ]
  },
  {
   "cell_type": "code",
   "execution_count": 64,
   "id": "c4ce45b0",
   "metadata": {},
   "outputs": [
    {
     "name": "stdout",
     "output_type": "stream",
     "text": [
      "tuple is not a palindrome\n",
      "(1, 2, 3, 4, 5, 6)\n",
      "(6, 5, 4, 3, 2, 1)\n"
     ]
    }
   ],
   "source": [
    "#33-Check if a tuple is a palindrome.\n",
    "tuple1=(1,2,3,4,5,6)\n",
    "tuple2=tuple1[::-1]\n",
    "if tuple1==tuple2:\n",
    "    print(\"tuple is a palindrome\")\n",
    "else:\n",
    "    print(\"tuple is not a palindrome\")\n",
    "print(tuple1)\n",
    "print(tuple2)"
   ]
  },
  {
   "cell_type": "code",
   "execution_count": 71,
   "id": "63b8c4f1",
   "metadata": {},
   "outputs": [
    {
     "name": "stdout",
     "output_type": "stream",
     "text": [
      "[1, 4, 9, 16, 25]\n"
     ]
    }
   ],
   "source": [
    "#34-Create a tuple of squares of numbers from 1 to 5.\n",
    "tuple1=(1,2,3,4,5)\n",
    "squares_numbers=[i**2  for i in range(1,6)]\n",
    "print(squares_numbers)"
   ]
  },
  {
   "cell_type": "code",
   "execution_count": 79,
   "id": "3226697d",
   "metadata": {},
   "outputs": [
    {
     "name": "stdout",
     "output_type": "stream",
     "text": [
      "1\n",
      "3\n",
      "5\n",
      "7\n",
      "9\n"
     ]
    }
   ],
   "source": [
    "#35-Filter out all even numbers from a tuple.\n",
    "my_tuple=(1,2,3,4,5,6,7,8,9,10)\n",
    "for i in range(0,10):\n",
    "    if i%2==0:\n",
    "        i+=1\n",
    "        print(i)"
   ]
  },
  {
   "cell_type": "code",
   "execution_count": 86,
   "id": "95f5ddd4",
   "metadata": {},
   "outputs": [
    {
     "name": "stdout",
     "output_type": "stream",
     "text": [
      "[2, 4, 6, 8, 10, 12, 14, 16, 18, 20]\n",
      "[0, 2, 4, 6, 8, 10, 12, 14, 16, 18, 20]\n"
     ]
    }
   ],
   "source": [
    "#36-Multiply all elements in a tuple by 2.\n",
    "tuple1=(1,2,3,4,5,6,7,8,9,10)\n",
    "multiply_element=[x*2 for x in tuple1]\n",
    "multiply_elements=[x*2 for x in range(0,11)]\n",
    "print(multiply_element)\n",
    "print(multiply_elements)"
   ]
  },
  {
   "cell_type": "code",
   "execution_count": 92,
   "id": "1d85f222",
   "metadata": {},
   "outputs": [
    {
     "name": "stdout",
     "output_type": "stream",
     "text": [
      "(961, 900, 47, 289, 691, 478, 240, 99, 388, 705)\n"
     ]
    }
   ],
   "source": [
    "#37-Create a tuple of random numbers.\n",
    "import random\n",
    "random.numbers=tuple(random.randint(1,1000) for i in range(10))\n",
    "print(random.numbers)"
   ]
  },
  {
   "cell_type": "code",
   "execution_count": 96,
   "id": "8e357b25",
   "metadata": {},
   "outputs": [
    {
     "name": "stdout",
     "output_type": "stream",
     "text": [
      "[0, 2, 3, 4, 5, 8, 9, 12, 34, 56]\n",
      "True\n"
     ]
    }
   ],
   "source": [
    "#38-Check if a tuple is sorted.\n",
    "tuple1=(4,5,3,8,9,2,0,34,56,12)\n",
    "sorted_tuple=sorted(tuple1)\n",
    "print(sorted_tuple)\n",
    "if sorted_tuple:\n",
    "    print(\"True\")\n",
    "else:\n",
    "    print(\"False\")"
   ]
  },
  {
   "cell_type": "code",
   "execution_count": 98,
   "id": "d86048ce",
   "metadata": {},
   "outputs": [
    {
     "name": "stdout",
     "output_type": "stream",
     "text": [
      "(6, 7, 8, 9, 4, 5)\n"
     ]
    }
   ],
   "source": [
    "#39-Rotate a tuple to the left by `n` positions.\n",
    "def rotate_left_tuple(my_tuple,n):\n",
    "    length=len(my_tuple)\n",
    "    n=n%length\n",
    "    return my_tuple[n:]+my_tuple[:n]\n",
    "my_tuple=(4,5,6,7,8,9)\n",
    "n=2\n",
    "rotated_tuple=rotate_left_tuple(my_tuple,n)\n",
    "print(rotated_tuple)"
   ]
  },
  {
   "cell_type": "code",
   "execution_count": 99,
   "id": "fbe9bdb2",
   "metadata": {},
   "outputs": [
    {
     "name": "stdout",
     "output_type": "stream",
     "text": [
      "(-10, 23, -88, 2, -4, 6, -6, 7, -9, 8)\n"
     ]
    }
   ],
   "source": [
    "#40-Rotate a tuple to the right by `n` position.\n",
    "def rotate_right_tuple(my_tuple,n):\n",
    "    length=len(my_tuple)\n",
    "    n=n%length\n",
    "    return my_tuple[-n:]+my_tuple[:-n]\n",
    "my_tuple=(2,-4,6,-6,7,-9,8,-10,23,-88)\n",
    "n=3\n",
    "rotated_tuple=rotate_right_tuple(my_tuple,n)\n",
    "print(rotated_tuple)"
   ]
  },
  {
   "cell_type": "code",
   "execution_count": 105,
   "id": "89a6f3fa",
   "metadata": {},
   "outputs": [
    {
     "name": "stdout",
     "output_type": "stream",
     "text": [
      "(0, 1, 1, 2, 3)\n"
     ]
    }
   ],
   "source": [
    "#41-Create a tuple of the first 5 Fibonacci numbers.\n",
    "def generate_fibonacci_numbers(n):\n",
    "    fibonacci_sequence=[0,1]\n",
    "    while len(fibonacci_sequence) < n:\n",
    "        next_number=fibonacci_sequence[-1]+fibonacci_sequence[-2]\n",
    "        fibonacci_sequence.append(next_number)\n",
    "    return tuple(fibonacci_sequence) \n",
    "first_5_fibonacci=generate_fibonacci_numbers(5)\n",
    "print(first_5_fibonacci)\n",
    "    "
   ]
  },
  {
   "cell_type": "code",
   "execution_count": 117,
   "id": "64d88878",
   "metadata": {},
   "outputs": [
    {
     "name": "stdout",
     "output_type": "stream",
     "text": [
      "enter the numbers of tuples:1 2 3 4 5\n",
      "user_input as a tuple: ('1 2 3 4 5',)\n"
     ]
    }
   ],
   "source": [
    "#42-Create a tuple from user input.\n",
    "user_input=input(\"enter the numbers of tuples:\")\n",
    "input_list=[element.strip() for element in user_input.split(',')]\n",
    "user_tuple=tuple(input_list)\n",
    "print(\"user_input as a tuple:\",user_tuple)"
   ]
  },
  {
   "cell_type": "code",
   "execution_count": 124,
   "id": "a6110681",
   "metadata": {},
   "outputs": [
    {
     "name": "stdout",
     "output_type": "stream",
     "text": [
      "original tuple: (1, 2, 3, 4, 5)\n",
      "swapped tuple: (1, 4, 3, 2, 5)\n"
     ]
    }
   ],
   "source": [
    "#43-Swap two elements in a tuple.\n",
    "my_tuple=(1,2,3,4,5)\n",
    "my_list=list(my_tuple)\n",
    "my_list[1],my_list[3]=my_list[3],my_list[1]\n",
    "swapped_tuple=tuple(my_list)\n",
    "print(\"original tuple:\",my_tuple)\n",
    "print(\"swapped tuple:\",swapped_tuple)"
   ]
  },
  {
   "cell_type": "code",
   "execution_count": 127,
   "id": "ff26d352",
   "metadata": {},
   "outputs": [
    {
     "name": "stdout",
     "output_type": "stream",
     "text": [
      "(1, 2, 3, 4, 5)\n",
      "(5, 4, 3, 2, 1)\n"
     ]
    }
   ],
   "source": [
    "#44-Reverse the elements of a tuple.\n",
    "my_tuple=(1,2,3,4,5)\n",
    "reversed_tuple=my_tuple[::-1]\n",
    "print(my_tuple)\n",
    "print(reversed_tuple)"
   ]
  },
  {
   "cell_type": "code",
   "execution_count": 129,
   "id": "cc058d22",
   "metadata": {},
   "outputs": [
    {
     "name": "stdout",
     "output_type": "stream",
     "text": [
      "[1, 2, 4, 8, 16]\n"
     ]
    }
   ],
   "source": [
    "#45-Create a tuple of the first `n` powers of 2.\n",
    "n=5 \n",
    "power_of_2=[2**i for i in range(n)]\n",
    "print(power_of_2)\n"
   ]
  },
  {
   "cell_type": "code",
   "execution_count": 134,
   "id": "1091c671",
   "metadata": {},
   "outputs": [
    {
     "name": "stdout",
     "output_type": "stream",
     "text": [
      "longest string: three\n"
     ]
    }
   ],
   "source": [
    "#46-Find the longest string in a tuple of strings.\n",
    "string_tuple=('one','two','three','four','five','six')\n",
    "longest_string=''\n",
    "max_length=0\n",
    "for string in string_tuple:\n",
    "    if len(string)>max_length:\n",
    "        max_length=len(string)\n",
    "        longest_string=string\n",
    "print(\"longest string:\",longest_string)"
   ]
  },
  {
   "cell_type": "code",
   "execution_count": 142,
   "id": "51b4072c",
   "metadata": {},
   "outputs": [
    {
     "name": "stdout",
     "output_type": "stream",
     "text": [
      "shortest string: jai\n"
     ]
    }
   ],
   "source": [
    "#47-Find the shortest string in a tuple of strings.\n",
    "string_tuple=('orange','green','question','jai')\n",
    "shortest_string=''\n",
    "min_length=float(\"inf\")\n",
    "for string in string_tuple:\n",
    "    if len(string)< min_length:\n",
    "        min_length=len(string)\n",
    "        shortest_string=string\n",
    "print(\"shortest string:\",shortest_string)\n",
    "    "
   ]
  },
  {
   "cell_type": "code",
   "execution_count": 143,
   "id": "3e800494",
   "metadata": {},
   "outputs": [
    {
     "name": "stdout",
     "output_type": "stream",
     "text": [
      "(1, 3, 6, 10, 15)\n"
     ]
    }
   ],
   "source": [
    "#48-Create a tuple of the first `n` triangular numbers.\n",
    "n=5\n",
    "triangular_numbers=tuple(i*(i+1)//2 for i in range(1,n+1))\n",
    "print(triangular_numbers)"
   ]
  },
  {
   "cell_type": "code",
   "execution_count": 146,
   "id": "10b39c97",
   "metadata": {},
   "outputs": [
    {
     "name": "stdout",
     "output_type": "stream",
     "text": [
      "main tuple: (1, 2, 3, 4, 5, 6, 7, 8, 9)\n",
      "contains subsequence 1: True\n",
      "contains subsequence 2: False\n"
     ]
    }
   ],
   "source": [
    "#49-Check if a tuple contains another tuple as a subsequence.\n",
    "def contains_subsequence(main_tuple,subsequence):\n",
    "    sub_len=len(subsequence)\n",
    "    for i in range(len(main_tuple)-sub_len+1):\n",
    "        if main_tuple[i:i+sub_len]==subsequence:\n",
    "            return True\n",
    "    return False\n",
    "main_tuple=(1,2,3,4,5,6,7,8,9)\n",
    "subsequence1=(2,3,4)\n",
    "subsequence2=(5,6,8)\n",
    "print(\"main tuple:\",main_tuple)\n",
    "print(\"contains subsequence 1:\",contains_subsequence(main_tuple,subsequence1))\n",
    "print(\"contains subsequence 2:\",contains_subsequence(main_tuple,subsequence2))\n",
    "    "
   ]
  },
  {
   "cell_type": "code",
   "execution_count": 149,
   "id": "4d0df9b5",
   "metadata": {},
   "outputs": [
    {
     "name": "stdout",
     "output_type": "stream",
     "text": [
      "(1, 0, 1, 0, 1, 0, 1, 0, 1, 0)\n"
     ]
    }
   ],
   "source": [
    "#50- Create a tuple of alternating 1s and 0s of length `n.\n",
    "n=10\n",
    "alternating_tuple=tuple(1 if i%2==0 else 0 for i in range(n))\n",
    "print(alternating_tuple)"
   ]
  },
  {
   "cell_type": "markdown",
   "id": "53a9dd59",
   "metadata": {},
   "source": [
    "# set based practice problems"
   ]
  },
  {
   "cell_type": "code",
   "execution_count": 153,
   "id": "e26e710a",
   "metadata": {},
   "outputs": [
    {
     "name": "stdout",
     "output_type": "stream",
     "text": [
      "{1, 2, 3, 4, 5}\n"
     ]
    }
   ],
   "source": [
    "#1-Create a set with integers from 1 to 5.\n",
    "set={1,2,3,4,5}\n",
    "print(set)"
   ]
  },
  {
   "cell_type": "code",
   "execution_count": 154,
   "id": "8e397311",
   "metadata": {},
   "outputs": [
    {
     "name": "stdout",
     "output_type": "stream",
     "text": [
      "{1, 2, 3, 4, 5, 6, 7}\n"
     ]
    }
   ],
   "source": [
    "#2-Add an element to a set.\n",
    "set={1,2,3,4,5,6}\n",
    "set.add(7)\n",
    "print(set)"
   ]
  },
  {
   "cell_type": "code",
   "execution_count": 156,
   "id": "e883be5e",
   "metadata": {},
   "outputs": [
    {
     "name": "stdout",
     "output_type": "stream",
     "text": [
      "{70, 40, 10, 80, 50, 20, 90, 60, 30}\n",
      "{70, 40, 10, 80, 50, 20, 90, 30}\n"
     ]
    }
   ],
   "source": [
    "#3-Remove an element from a set.\n",
    "set={10,20,30,40,50,60,70,80,90}\n",
    "print(set)\n",
    "set.remove(60)\n",
    "print(set)"
   ]
  },
  {
   "cell_type": "code",
   "execution_count": 160,
   "id": "c07fd33e",
   "metadata": {},
   "outputs": [
    {
     "name": "stdout",
     "output_type": "stream",
     "text": [
      "element exists in a set.\n"
     ]
    }
   ],
   "source": [
    "#4-Check if an element exists in a set.\n",
    "set={11,22,33,44,55,66,88}\n",
    "element=33\n",
    "if element in set:\n",
    "    print(\"element exists in a set.\")\n",
    "else:\n",
    "    print(\"element not exits in a set.\")"
   ]
  },
  {
   "cell_type": "code",
   "execution_count": 161,
   "id": "746cc04c",
   "metadata": {},
   "outputs": [
    {
     "name": "stdout",
     "output_type": "stream",
     "text": [
      "length of the set: 5\n"
     ]
    }
   ],
   "source": [
    "#5-Find the length of a set without using the `len()` function.\n",
    "set={10,20,30,40,50}\n",
    "count=0\n",
    "for x in set:\n",
    "    count+=1\n",
    "print(\"length of the set:\",count)"
   ]
  },
  {
   "cell_type": "code",
   "execution_count": 162,
   "id": "ec1e52bd",
   "metadata": {},
   "outputs": [
    {
     "name": "stdout",
     "output_type": "stream",
     "text": [
      "{70, 40, 10, 80, 50, 20, 90, 60, 30}\n",
      "set()\n"
     ]
    }
   ],
   "source": [
    "#6- Clear all elements from a set.\n",
    "my_set={10,20,30,40,50,60,70,80,90}\n",
    "print(my_set)\n",
    "my_set.clear()\n",
    "print(my_set)"
   ]
  },
  {
   "cell_type": "code",
   "execution_count": 176,
   "id": "72061844",
   "metadata": {},
   "outputs": [
    {
     "name": "stdout",
     "output_type": "stream",
     "text": [
      "[2, 4, 6, 8, 10]\n"
     ]
    }
   ],
   "source": [
    "#7-Create a set of even numbers from 1 to 10.\n",
    "even_numbers=[ x for x in range(1,11)if x%2==0]\n",
    "print(even_numbers)"
   ]
  },
  {
   "cell_type": "code",
   "execution_count": 177,
   "id": "4505c7a9",
   "metadata": {},
   "outputs": [
    {
     "name": "stdout",
     "output_type": "stream",
     "text": [
      "[1, 3, 5, 7, 9]\n"
     ]
    }
   ],
   "source": [
    "#8- Create a set of odd numbers from 1 to 10.\n",
    "odd_numbers=[x for x in range(1,11) if x%2!=0]\n",
    "print(odd_numbers)"
   ]
  },
  {
   "cell_type": "code",
   "execution_count": 179,
   "id": "ce0ee1fc",
   "metadata": {},
   "outputs": [
    {
     "name": "stdout",
     "output_type": "stream",
     "text": [
      "{1, 2, 3, 4, 5, 6, 7, 8, 9}\n"
     ]
    }
   ],
   "source": [
    "#9-Find the union of two sets.\n",
    "set1={1,2,3,4,5}\n",
    "set2={5,6,7,8,9}\n",
    "result=set1.union(set2)\n",
    "print(result)"
   ]
  },
  {
   "cell_type": "code",
   "execution_count": 181,
   "id": "aba22e84",
   "metadata": {},
   "outputs": [
    {
     "name": "stdout",
     "output_type": "stream",
     "text": [
      "{1, 3, 5}\n"
     ]
    }
   ],
   "source": [
    "#10- Find the intersection of two sets.\n",
    "set1={1,2,3,4,5}\n",
    "set2={1,3,5,7,9}\n",
    "result=set1.intersection(set2)\n",
    "print(result)"
   ]
  },
  {
   "cell_type": "code",
   "execution_count": 183,
   "id": "bc980fc6",
   "metadata": {},
   "outputs": [
    {
     "name": "stdout",
     "output_type": "stream",
     "text": [
      "{1, 2, 3}\n",
      "{8, 9, 7}\n"
     ]
    }
   ],
   "source": [
    "#11-Find the difference between two sets\n",
    "set1={1,2,3,4,5,6}\n",
    "set2={4,5,6,7,8,9}\n",
    "result=set1.difference(set2)\n",
    "result1=set2.difference(set1)\n",
    "print(result)\n",
    "print(result1)"
   ]
  },
  {
   "cell_type": "code",
   "execution_count": 185,
   "id": "b215c96d",
   "metadata": {},
   "outputs": [
    {
     "name": "stdout",
     "output_type": "stream",
     "text": [
      "True\n",
      "False\n"
     ]
    }
   ],
   "source": [
    "#12-Check if a set is a subset of another set.\n",
    "set1={4,5,6}\n",
    "set2={1,2,3,4,5,6}\n",
    "is_subset_result1=set1.issubset(set2)\n",
    "is_subset_result2=set1<=set2\n",
    "print(is_subset_result1)\n",
    "print(is_subset_result2)"
   ]
  },
  {
   "cell_type": "code",
   "execution_count": 190,
   "id": "081d66ae",
   "metadata": {},
   "outputs": [
    {
     "name": "stdout",
     "output_type": "stream",
     "text": [
      "True\n",
      "True\n"
     ]
    }
   ],
   "source": [
    "#13-Check if a set is a superset of another set.\n",
    "set1={1,2,3,4,5}\n",
    "set2={1,2,3}\n",
    "is_superset_result1=set1.issuperset(set2)\n",
    "is_superset_result2=set1>=set2\n",
    "print(is_superset_result1)\n",
    "print(is_superset_result2)"
   ]
  },
  {
   "cell_type": "code",
   "execution_count": 1,
   "id": "0fc5c36b",
   "metadata": {},
   "outputs": [
    {
     "name": "stdout",
     "output_type": "stream",
     "text": [
      "[10, 20, 30, 40, 50, 60]\n",
      "{40, 10, 50, 20, 60, 30}\n"
     ]
    }
   ],
   "source": [
    "#14-Create a set from a list.\n",
    "my_list=[10,20,30,40,50,60]\n",
    "my_set=set(my_list)\n",
    "print(my_list)\n",
    "print(my_set)"
   ]
  },
  {
   "cell_type": "code",
   "execution_count": 2,
   "id": "492010dd",
   "metadata": {},
   "outputs": [
    {
     "name": "stdout",
     "output_type": "stream",
     "text": [
      "{1, 2, 3, 4, 5, 6}\n",
      "[1, 2, 3, 4, 5, 6]\n"
     ]
    }
   ],
   "source": [
    "#15-Convert a set to a list\n",
    "set={1,2,3,4,5,6}\n",
    "list=list(set)\n",
    "print(set)s\n",
    "print(list)"
   ]
  },
  {
   "cell_type": "code",
   "execution_count": 4,
   "id": "ea172a16",
   "metadata": {},
   "outputs": [
    {
     "name": "stdout",
     "output_type": "stream",
     "text": [
      "original set: {2, 3, 4, 5, 6, 7, 8, 9}\n",
      "removed_set: 1\n"
     ]
    }
   ],
   "source": [
    "#16-Remove a random element from a set.\n",
    "my_set={1,2,3,4,5,6,7,8,9}\n",
    "removed_elements=my_set.pop()\n",
    "print(\"original set:\",my_set)\n",
    "print(\"removed_set:\",removed_elements)"
   ]
  },
  {
   "cell_type": "code",
   "execution_count": 9,
   "id": "15ab786f",
   "metadata": {},
   "outputs": [
    {
     "name": "stdout",
     "output_type": "stream",
     "text": [
      "popped element is: 2\n"
     ]
    }
   ],
   "source": [
    "#17- Pop an element from a set.\n",
    "set={2,3,4,5,6,7,8,9}\n",
    "result=set.pop()\n",
    "print(\"popped element is:\",result)"
   ]
  },
  {
   "cell_type": "code",
   "execution_count": 12,
   "id": "cfe6b366",
   "metadata": {},
   "outputs": [
    {
     "name": "stdout",
     "output_type": "stream",
     "text": [
      "True\n"
     ]
    }
   ],
   "source": [
    "#18-Check if two sets have no elements in common.\n",
    "set1={1,2,3}\n",
    "set2={4,5,6}\n",
    "are_disjoint1=set1.isdisjoint(set2)\n",
    "print(are_disjoint1)"
   ]
  },
  {
   "cell_type": "code",
   "execution_count": 17,
   "id": "95c43c48",
   "metadata": {},
   "outputs": [
    {
     "name": "stdout",
     "output_type": "stream",
     "text": [
      "{1, 2, 3, 7, 8, 9}\n"
     ]
    }
   ],
   "source": [
    "#19-Find the symmetric difference between two sets\n",
    "set1={1,2,3,4,5,6}\n",
    "set2={4,5,6,7,8,9}\n",
    "result=set1.symmetric_difference(set2)\n",
    "print(result)"
   ]
  },
  {
   "cell_type": "code",
   "execution_count": 24,
   "id": "bb1cccbd",
   "metadata": {},
   "outputs": [
    {
     "name": "stdout",
     "output_type": "stream",
     "text": [
      "{1, 2, 3, 4, 5, 6, 7, 8, 9}\n"
     ]
    }
   ],
   "source": [
    "#20- Update a set with elements from another set.\n",
    "set1={1,2,3,4,5}\n",
    "set2={5,6,7,8,9}\n",
    "set1.update(set2)\n",
    "print(set1)"
   ]
  },
  {
   "cell_type": "code",
   "execution_count": 32,
   "id": "e9aac5f0",
   "metadata": {},
   "outputs": [
    {
     "name": "stdout",
     "output_type": "stream",
     "text": [
      "{2, 3, 5, 7, 11}\n"
     ]
    }
   ],
   "source": [
    "#21-Create a set of the first 5 prime numbers.\n",
    "first_prime_numbers={2,3,5,7,11}\n",
    "print(first_prime_numbers)"
   ]
  },
  {
   "cell_type": "code",
   "execution_count": 33,
   "id": "6b4f876d",
   "metadata": {},
   "outputs": [
    {
     "name": "stdout",
     "output_type": "stream",
     "text": [
      "these seta are not identical.\n"
     ]
    }
   ],
   "source": [
    "#22-Check if two sets are identical.\n",
    "set1={1,2,3,4}\n",
    "set2={4,5,6,7}\n",
    "if set1==set2:\n",
    "    print(\"these sets are identical,\")\n",
    "else:\n",
    "    print(\"these seta are not identical.\")"
   ]
  },
  {
   "cell_type": "code",
   "execution_count": 35,
   "id": "4768c0b0",
   "metadata": {},
   "outputs": [
    {
     "name": "stdout",
     "output_type": "stream",
     "text": [
      "these sets are identical.\n"
     ]
    }
   ],
   "source": [
    "set1={1,2,3,4}\n",
    "set2={4,3,2,1}\n",
    "if set1==set2:\n",
    "    print(\"these sets are identical.\")\n",
    "else:\n",
    "    print(\"these seta are not identical.\")"
   ]
  },
  {
   "cell_type": "code",
   "execution_count": 38,
   "id": "905612ee",
   "metadata": {},
   "outputs": [
    {
     "name": "stdout",
     "output_type": "stream",
     "text": [
      "frozenset({1, 2, 3, 4, 5, 6, 7, 8})\n"
     ]
    }
   ],
   "source": [
    "#23-Create a frozen set.\n",
    "set={1,2,3,4,5,6,7,8}\n",
    "result=frozenset(set)\n",
    "print(result)"
   ]
  },
  {
   "cell_type": "code",
   "execution_count": 43,
   "id": "84d28cdf",
   "metadata": {},
   "outputs": [
    {
     "name": "stdout",
     "output_type": "stream",
     "text": [
      "True\n",
      "True\n"
     ]
    }
   ],
   "source": [
    "#24-Check if a set is disjoint with another set.\n",
    "set1={6,7,8,9,10}\n",
    "set2={1,2,3,4,5}\n",
    "are_disjoint1=set1.isdisjoint(set2)\n",
    "are_disjoint2=len(set1.intersection(set2))==0\n",
    "print(are_disjoint1)\n",
    "print(are_disjoint2)"
   ]
  },
  {
   "cell_type": "code",
   "execution_count": 45,
   "id": "e4dd41e2",
   "metadata": {},
   "outputs": [
    {
     "name": "stdout",
     "output_type": "stream",
     "text": [
      "[0, 1, 4, 9, 16]\n"
     ]
    }
   ],
   "source": [
    "#25-Create a set of squares of numbers from 1 to 5\n",
    "set={1,2,3,4,5}\n",
    "squares_numbers=[x**2 for x in range(5)]\n",
    "print(squares_numbers)"
   ]
  },
  {
   "cell_type": "code",
   "execution_count": 51,
   "id": "ae3c75a9",
   "metadata": {},
   "outputs": [
    {
     "name": "stdout",
     "output_type": "stream",
     "text": [
      "[1, 3, 5, 7, 9]\n"
     ]
    }
   ],
   "source": [
    "#26-Filter out all even numbers from a set.\n",
    "set={1,2,3,4,5,6,7,8,9,10}\n",
    "even_numbers=[x for x in set if x%2!=0]\n",
    "print(even_numbers)"
   ]
  },
  {
   "cell_type": "code",
   "execution_count": 57,
   "id": "4206919c",
   "metadata": {},
   "outputs": [
    {
     "name": "stdout",
     "output_type": "stream",
     "text": [
      "{2, 4, 6, 8, 10}\n"
     ]
    }
   ],
   "source": [
    "#27-Multiply all elements in a set by 2.\n",
    "set={1,2,3,4,5}\n",
    "new_set={x*2 for x in set}\n",
    "print(new_set)"
   ]
  },
  {
   "cell_type": "code",
   "execution_count": 1,
   "id": "b1997fd2",
   "metadata": {},
   "outputs": [
    {
     "name": "stdout",
     "output_type": "stream",
     "text": [
      "{1, 2, 43, 15, 79, 87, 24, 90, 92, 63}\n"
     ]
    }
   ],
   "source": [
    "#28-Create a set of random numbers.\n",
    "import random\n",
    "random_number_set = set()\n",
    "for _ in range(10): \n",
    "    random_number = random.randint(1, 100) \n",
    "    random_number_set.add(random_number)\n",
    "print(random_number_set)\n",
    "    "
   ]
  },
  {
   "cell_type": "code",
   "execution_count": 2,
   "id": "abaadb32",
   "metadata": {},
   "outputs": [
    {
     "name": "stdout",
     "output_type": "stream",
     "text": [
      "the set is empty\n"
     ]
    }
   ],
   "source": [
    "#29-Check if a set is empty.\n",
    "empty_set=set()\n",
    "if not empty_set:\n",
    "    print(\"the set is empty\")\n",
    "else:\n",
    "    print(\"the set is not empty\")"
   ]
  },
  {
   "cell_type": "code",
   "execution_count": 8,
   "id": "dd9bac5a",
   "metadata": {},
   "outputs": [
    {
     "name": "stdout",
     "output_type": "stream",
     "text": [
      "Nested set 1: {1, 2, 3}\n",
      "Nested set 2: {4, 5, 6}\n"
     ]
    }
   ],
   "source": [
    "#30-Create a nested set\n",
    "nested_structure = {\n",
    "    'set1': {1, 2, 3},\n",
    "    'set2': {4, 5, 6}\n",
    "}\n",
    "\n",
    "print(\"Nested set 1:\", nested_structure['set1'])\n",
    "print(\"Nested set 2:\", nested_structure['set2'])"
   ]
  },
  {
   "cell_type": "code",
   "execution_count": 12,
   "id": "08a03e04",
   "metadata": {},
   "outputs": [
    {
     "name": "stdout",
     "output_type": "stream",
     "text": [
      "{1, 2, 3, 5, 6, 7, 8, 9}\n"
     ]
    }
   ],
   "source": [
    "#31-Remove an element from a set using the discard method\n",
    "set={1,2,3,4,5,6,7,8,9}\n",
    "set.discard(4)\n",
    "print(set)"
   ]
  },
  {
   "cell_type": "code",
   "execution_count": 13,
   "id": "0580fe1d",
   "metadata": {},
   "outputs": [
    {
     "name": "stdout",
     "output_type": "stream",
     "text": [
      "are the sets equal: False\n"
     ]
    }
   ],
   "source": [
    "#32-Compare two sets.\n",
    "set1={10,20,30,40}\n",
    "set2={20,30,40,50}\n",
    "are_equal=set1==set2\n",
    "print(\"are the sets equal:\",are_equal)"
   ]
  },
  {
   "cell_type": "code",
   "execution_count": 1,
   "id": "6daf2246",
   "metadata": {},
   "outputs": [
    {
     "name": "stdout",
     "output_type": "stream",
     "text": [
      "{'o', 'e', ',', 'h', 'w', 'l', 'd', ' ', 'r'}\n"
     ]
    }
   ],
   "source": [
    "#33-Create a set from a string.\n",
    "input_string = \"hello, world\"\n",
    "my_set = set(input_string)\n",
    "print(my_set)"
   ]
  },
  {
   "cell_type": "code",
   "execution_count": 7,
   "id": "1868f16a",
   "metadata": {},
   "outputs": [
    {
     "name": "stdout",
     "output_type": "stream",
     "text": [
      "{1, 2, 3, 4, 5, 6}\n"
     ]
    }
   ],
   "source": [
    "#34-Convert a set of strings to a set of integers.\n",
    "set_of_strings=(\"1\",\"2\",\"3\",\"4\",\"5\",\"6\")\n",
    "set_of_integers={int(element) for element in set_of_strings}\n",
    "print(set_of_integers)"
   ]
  },
  {
   "cell_type": "code",
   "execution_count": 8,
   "id": "0c7ce2c1",
   "metadata": {},
   "outputs": [
    {
     "name": "stdout",
     "output_type": "stream",
     "text": [
      "{1, 2, 3, 4, 5, 6, 7, 8, 9}\n",
      "{'9', '8', '6', '1', '3', '4', '7', '5', '2'}\n"
     ]
    }
   ],
   "source": [
    "#35-Convert a set of integers to a set of strings.\n",
    "int_set={1,2,3,4,5,6,7,8,9}\n",
    "string_set={str(element) for element in int_set}\n",
    "print(int_set)\n",
    "print(string_set)"
   ]
  },
  {
   "cell_type": "code",
   "execution_count": 9,
   "id": "1e03bb54",
   "metadata": {},
   "outputs": [
    {
     "name": "stdout",
     "output_type": "stream",
     "text": [
      "[10, 20, 30, 40, 50]\n",
      "{40, 10, 50, 20, 30}\n"
     ]
    }
   ],
   "source": [
    "#36-Create a set from a tuple.\n",
    "my_tuple=[10,20,30,40,50]\n",
    "my_set=set(my_tuple)\n",
    "print(my_tuple)\n",
    "print(my_set)"
   ]
  },
  {
   "cell_type": "code",
   "execution_count": 10,
   "id": "5ccf0a90",
   "metadata": {},
   "outputs": [
    {
     "name": "stdout",
     "output_type": "stream",
     "text": [
      "{1, 2, 3, 4, 5, 6, 7, 8, 9}\n",
      "(1, 2, 3, 4, 5, 6, 7, 8, 9)\n"
     ]
    }
   ],
   "source": [
    "#37- Convert a set to a tuple.\n",
    "my_set={1,2,3,4,5,6,7,8,9}\n",
    "my_tuple=tuple(my_set)\n",
    "print(my_set)\n",
    "print(my_tuple)"
   ]
  },
  {
   "cell_type": "code",
   "execution_count": 11,
   "id": "64943beb",
   "metadata": {},
   "outputs": [
    {
     "name": "stdout",
     "output_type": "stream",
     "text": [
      "100\n"
     ]
    }
   ],
   "source": [
    "#38-Find the maximum value in a set.\n",
    "my_set={10,20,30,40,50,60,70,80,90,100}\n",
    "print(max(my_set))"
   ]
  },
  {
   "cell_type": "code",
   "execution_count": 12,
   "id": "f8f89cff",
   "metadata": {},
   "outputs": [
    {
     "name": "stdout",
     "output_type": "stream",
     "text": [
      "1\n"
     ]
    }
   ],
   "source": [
    "#39-Find the minimum value in a set.\n",
    "my_set={1,2,3,4,5,6,7,8,9,10}\n",
    "print(min(my_set))\n"
   ]
  },
  {
   "cell_type": "code",
   "execution_count": 14,
   "id": "ec2f92ef",
   "metadata": {},
   "outputs": [
    {
     "name": "stdout",
     "output_type": "stream",
     "text": [
      "enter elements separated by comma:1 2 3\n",
      "user_set: {'1 2 3'}\n"
     ]
    }
   ],
   "source": [
    "#40-Create a set from user input.\n",
    "user_input=input(\"enter elements separated by comma:\")\n",
    "elements=[element.strip() for element in user_input.split(',')]\n",
    "user_set=set(elements)\n",
    "print(\"user_set:\",user_set)"
   ]
  },
  {
   "cell_type": "code",
   "execution_count": 16,
   "id": "4c576d73",
   "metadata": {},
   "outputs": [
    {
     "name": "stdout",
     "output_type": "stream",
     "text": [
      "intersection empty: True\n"
     ]
    }
   ],
   "source": [
    "#41-Check if the intersection of two sets is empty.\n",
    "set1={1,2,3}\n",
    "set2={4,5,6}\n",
    "intersection_empty=set1.isdisjoint(set2)\n",
    "print(\"intersection empty:\",intersection_empty)"
   ]
  },
  {
   "cell_type": "code",
   "execution_count": 25,
   "id": "5dd9803f",
   "metadata": {},
   "outputs": [
    {
     "name": "stdout",
     "output_type": "stream",
     "text": [
      "{0, 1, 2, 3, 5}\n"
     ]
    }
   ],
   "source": [
    "#42-Create a set of the first 5 Fibonacci numbers.\n",
    "fibonacci_set = set()\n",
    "a, b = 0, 1\n",
    "for _ in range(6):\n",
    "    fibonacci_set.add(a)\n",
    "    a, b = b, a + b\n",
    "print(fibonacci_set)"
   ]
  },
  {
   "cell_type": "code",
   "execution_count": 27,
   "id": "5d1d3096",
   "metadata": {},
   "outputs": [
    {
     "name": "stdout",
     "output_type": "stream",
     "text": [
      "[2, 3, 4, 5, 6, 7, 8, 9, 2, 4, 6, 8, 3, 1, 10, 11, 23]\n",
      "{1, 2, 3, 4, 5, 6, 7, 8, 9, 10, 11, 23}\n"
     ]
    }
   ],
   "source": [
    "#43-Remove duplicates from a list using sets.\n",
    "my_lst=[2,3,4,5,6,7,8,9,2,4,6,8,3,1,10,11,23]\n",
    "my_set=(set(my_lst))\n",
    "print(my_lst)\n",
    "print(my_set)"
   ]
  },
  {
   "cell_type": "code",
   "execution_count": 30,
   "id": "1901bfbb",
   "metadata": {},
   "outputs": [
    {
     "name": "stdout",
     "output_type": "stream",
     "text": [
      "False\n"
     ]
    }
   ],
   "source": [
    "#44-Check if two sets have the same elements, regardless of their count.\n",
    "set1={1,2,3,4,5,6,7,8}\n",
    "set2={1,2,3,4,5,9}\n",
    "result=set1==set2\n",
    "print(result)"
   ]
  },
  {
   "cell_type": "code",
   "execution_count": 33,
   "id": "2ad04f20",
   "metadata": {},
   "outputs": [
    {
     "name": "stdout",
     "output_type": "stream",
     "text": [
      "{1, 2, 4, 8, 16}\n"
     ]
    }
   ],
   "source": [
    "#45-Create a set of the first `n` powers of 2.\n",
    "n=5\n",
    "powers_of_2=[2**x for x in range(n)]\n",
    "print(set(powers_of_2))"
   ]
  },
  {
   "cell_type": "code",
   "execution_count": 37,
   "id": "0851c399",
   "metadata": {},
   "outputs": [
    {
     "name": "stdout",
     "output_type": "stream",
     "text": [
      "common elements: {1, 2, 3}\n"
     ]
    }
   ],
   "source": [
    "#46-Find the common elements between a set and a list.\n",
    "my_set={1,2,3,4,5,6}\n",
    "my_list=[2,3,1,7,8,9]\n",
    "common_elements=my_set.intersection(my_list)\n",
    "print(\"common elements:\",common_elements)"
   ]
  },
  {
   "cell_type": "code",
   "execution_count": 45,
   "id": "47cc5b71",
   "metadata": {},
   "outputs": [
    {
     "name": "stdout",
     "output_type": "stream",
     "text": [
      "{1, 3, 6, 10, 15}\n"
     ]
    }
   ],
   "source": [
    "#47-Create a set of the first `n` triangular numbers\n",
    "n = 5\n",
    "triangular_numbers_set = set()\n",
    "for i in range(1, n + 1):\n",
    "    triangular_number = (i * (i + 1)) // 2\n",
    "    triangular_numbers_set.add(triangular_number)\n",
    "print(triangular_numbers_set)   "
   ]
  },
  {
   "cell_type": "code",
   "execution_count": 46,
   "id": "87ebfac6",
   "metadata": {},
   "outputs": [
    {
     "name": "stdout",
     "output_type": "stream",
     "text": [
      "False\n"
     ]
    }
   ],
   "source": [
    "#48-Check if a set contains another set as a subset.\n",
    "set1={1,2,3,4,5}\n",
    "set2={3,4,5,6,7}\n",
    "result=set1.issubset(set2)\n",
    "print(result)"
   ]
  },
  {
   "cell_type": "code",
   "execution_count": 47,
   "id": "935e8113",
   "metadata": {},
   "outputs": [
    {
     "name": "stdout",
     "output_type": "stream",
     "text": [
      "{0, 1}\n"
     ]
    }
   ],
   "source": [
    "#49-Create a set of alternating 1s and 0s of length `n`.\n",
    "n=10\n",
    "alternative_set=set()\n",
    "for i in range(n):\n",
    "    alternative_set.add(i%2)\n",
    "print(alternative_set)"
   ]
  },
  {
   "cell_type": "code",
   "execution_count": 49,
   "id": "b8df97fb",
   "metadata": {},
   "outputs": [
    {
     "name": "stdout",
     "output_type": "stream",
     "text": [
      "{1, 2, 3, 4, 5, 6, 7, 8, 9}\n"
     ]
    }
   ],
   "source": [
    "#50-Merge multiple sets into one\n",
    "set1={1,2,3}\n",
    "set2={4,5,6}\n",
    "set3={7,8,9}\n",
    "set4={2,3,4}\n",
    "merged_set=set1.union(set2,set3,set4)\n",
    "print(merged_set)"
   ]
  },
  {
   "cell_type": "code",
   "execution_count": null,
   "id": "400f3671",
   "metadata": {},
   "outputs": [],
   "source": []
  }
 ],
 "metadata": {
  "kernelspec": {
   "display_name": "Python 3 (ipykernel)",
   "language": "python",
   "name": "python3"
  },
  "language_info": {
   "codemirror_mode": {
    "name": "ipython",
    "version": 3
   },
   "file_extension": ".py",
   "mimetype": "text/x-python",
   "name": "python",
   "nbconvert_exporter": "python",
   "pygments_lexer": "ipython3",
   "version": "3.10.9"
  }
 },
 "nbformat": 4,
 "nbformat_minor": 5
}
